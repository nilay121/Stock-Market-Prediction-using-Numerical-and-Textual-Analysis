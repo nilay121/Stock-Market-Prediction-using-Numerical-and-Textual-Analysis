{
  "nbformat": 4,
  "nbformat_minor": 0,
  "metadata": {
    "colab": {
      "name": "Stocks_numerical_sentiment_analysis.ipynb",
      "provenance": [],
      "collapsed_sections": []
    },
    "kernelspec": {
      "name": "python3",
      "display_name": "Python 3"
    },
    "language_info": {
      "name": "python"
    },
    "accelerator": "GPU"
  },
  "cells": [
    {
      "cell_type": "markdown",
      "metadata": {
        "id": "oNRf1Vp1DQ3s"
      },
      "source": [
        "<b><center><h3>Author : Nilay Kushawaha</h3></center></b>\n",
        "<center><u><h3>Task 7: Stock Market Prediction using\n",
        "Numerical and Textual Analysis</h3></u></center>\n",
        "<h3>Objective : </h3>   \n",
        "\n",
        "\n",
        "*   Create a hybrid model for stock price/performance\n",
        "prediction using numerical analysis of historical stock prices, and\n",
        "sentimental analysis of news headlines\n",
        "\n",
        "\n",
        "<font color='green'><center><h3>GRIP @ THE SPARKS FOUNDATION</h3></center></font>\n",
        "![logo_tsf.png](data:image/png;base64,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)\n"
      ]
    },
    {
      "cell_type": "code",
      "metadata": {
        "colab": {
          "base_uri": "https://localhost:8080/"
        },
        "id": "3kx7MfCOcRsP",
        "outputId": "158899c6-33f4-49d3-bd13-1ade1cef6bb3"
      },
      "source": [
        "pip install yfinance"
      ],
      "execution_count": 1,
      "outputs": [
        {
          "output_type": "stream",
          "name": "stdout",
          "text": [
            "Collecting yfinance\n",
            "  Downloading yfinance-0.1.67-py2.py3-none-any.whl (25 kB)\n",
            "Requirement already satisfied: pandas>=0.24 in /usr/local/lib/python3.7/dist-packages (from yfinance) (1.1.5)\n",
            "Collecting lxml>=4.5.1\n",
            "  Downloading lxml-4.6.4-cp37-cp37m-manylinux_2_17_x86_64.manylinux2014_x86_64.manylinux_2_24_x86_64.whl (6.3 MB)\n",
            "\u001b[K     |████████████████████████████████| 6.3 MB 15.7 MB/s \n",
            "\u001b[?25hRequirement already satisfied: multitasking>=0.0.7 in /usr/local/lib/python3.7/dist-packages (from yfinance) (0.0.10)\n",
            "Requirement already satisfied: requests>=2.20 in /usr/local/lib/python3.7/dist-packages (from yfinance) (2.23.0)\n",
            "Requirement already satisfied: numpy>=1.15 in /usr/local/lib/python3.7/dist-packages (from yfinance) (1.19.5)\n",
            "Requirement already satisfied: python-dateutil>=2.7.3 in /usr/local/lib/python3.7/dist-packages (from pandas>=0.24->yfinance) (2.8.2)\n",
            "Requirement already satisfied: pytz>=2017.2 in /usr/local/lib/python3.7/dist-packages (from pandas>=0.24->yfinance) (2018.9)\n",
            "Requirement already satisfied: six>=1.5 in /usr/local/lib/python3.7/dist-packages (from python-dateutil>=2.7.3->pandas>=0.24->yfinance) (1.15.0)\n",
            "Requirement already satisfied: certifi>=2017.4.17 in /usr/local/lib/python3.7/dist-packages (from requests>=2.20->yfinance) (2021.10.8)\n",
            "Requirement already satisfied: idna<3,>=2.5 in /usr/local/lib/python3.7/dist-packages (from requests>=2.20->yfinance) (2.10)\n",
            "Requirement already satisfied: chardet<4,>=3.0.2 in /usr/local/lib/python3.7/dist-packages (from requests>=2.20->yfinance) (3.0.4)\n",
            "Requirement already satisfied: urllib3!=1.25.0,!=1.25.1,<1.26,>=1.21.1 in /usr/local/lib/python3.7/dist-packages (from requests>=2.20->yfinance) (1.24.3)\n",
            "Installing collected packages: lxml, yfinance\n",
            "  Attempting uninstall: lxml\n",
            "    Found existing installation: lxml 4.2.6\n",
            "    Uninstalling lxml-4.2.6:\n",
            "      Successfully uninstalled lxml-4.2.6\n",
            "Successfully installed lxml-4.6.4 yfinance-0.1.67\n"
          ]
        }
      ]
    },
    {
      "cell_type": "code",
      "metadata": {
        "colab": {
          "base_uri": "https://localhost:8080/"
        },
        "id": "lO4jCcqduR47",
        "outputId": "ef197c1d-a7f4-4f07-94a3-fb206124bb27"
      },
      "source": [
        "pip install -U keras-tuner"
      ],
      "execution_count": 2,
      "outputs": [
        {
          "output_type": "stream",
          "name": "stdout",
          "text": [
            "Collecting keras-tuner\n",
            "  Downloading keras_tuner-1.1.0-py3-none-any.whl (98 kB)\n",
            "\u001b[?25l\r\u001b[K     |███▍                            | 10 kB 21.3 MB/s eta 0:00:01\r\u001b[K     |██████▊                         | 20 kB 25.5 MB/s eta 0:00:01\r\u001b[K     |██████████                      | 30 kB 29.9 MB/s eta 0:00:01\r\u001b[K     |█████████████▍                  | 40 kB 25.7 MB/s eta 0:00:01\r\u001b[K     |████████████████▊               | 51 kB 15.2 MB/s eta 0:00:01\r\u001b[K     |████████████████████            | 61 kB 16.3 MB/s eta 0:00:01\r\u001b[K     |███████████████████████▍        | 71 kB 11.5 MB/s eta 0:00:01\r\u001b[K     |██████████████████████████▊     | 81 kB 12.7 MB/s eta 0:00:01\r\u001b[K     |██████████████████████████████  | 92 kB 12.1 MB/s eta 0:00:01\r\u001b[K     |████████████████████████████████| 98 kB 4.4 MB/s \n",
            "\u001b[?25hRequirement already satisfied: packaging in /usr/local/lib/python3.7/dist-packages (from keras-tuner) (21.3)\n",
            "Requirement already satisfied: tensorboard in /usr/local/lib/python3.7/dist-packages (from keras-tuner) (2.7.0)\n",
            "Requirement already satisfied: numpy in /usr/local/lib/python3.7/dist-packages (from keras-tuner) (1.19.5)\n",
            "Requirement already satisfied: ipython in /usr/local/lib/python3.7/dist-packages (from keras-tuner) (5.5.0)\n",
            "Requirement already satisfied: scipy in /usr/local/lib/python3.7/dist-packages (from keras-tuner) (1.4.1)\n",
            "Collecting kt-legacy\n",
            "  Downloading kt_legacy-1.0.4-py3-none-any.whl (9.6 kB)\n",
            "Requirement already satisfied: requests in /usr/local/lib/python3.7/dist-packages (from keras-tuner) (2.23.0)\n",
            "Requirement already satisfied: prompt-toolkit<2.0.0,>=1.0.4 in /usr/local/lib/python3.7/dist-packages (from ipython->keras-tuner) (1.0.18)\n",
            "Requirement already satisfied: decorator in /usr/local/lib/python3.7/dist-packages (from ipython->keras-tuner) (4.4.2)\n",
            "Requirement already satisfied: pygments in /usr/local/lib/python3.7/dist-packages (from ipython->keras-tuner) (2.6.1)\n",
            "Requirement already satisfied: simplegeneric>0.8 in /usr/local/lib/python3.7/dist-packages (from ipython->keras-tuner) (0.8.1)\n",
            "Requirement already satisfied: pexpect in /usr/local/lib/python3.7/dist-packages (from ipython->keras-tuner) (4.8.0)\n",
            "Requirement already satisfied: traitlets>=4.2 in /usr/local/lib/python3.7/dist-packages (from ipython->keras-tuner) (5.1.1)\n",
            "Requirement already satisfied: setuptools>=18.5 in /usr/local/lib/python3.7/dist-packages (from ipython->keras-tuner) (57.4.0)\n",
            "Requirement already satisfied: pickleshare in /usr/local/lib/python3.7/dist-packages (from ipython->keras-tuner) (0.7.5)\n",
            "Requirement already satisfied: six>=1.9.0 in /usr/local/lib/python3.7/dist-packages (from prompt-toolkit<2.0.0,>=1.0.4->ipython->keras-tuner) (1.15.0)\n",
            "Requirement already satisfied: wcwidth in /usr/local/lib/python3.7/dist-packages (from prompt-toolkit<2.0.0,>=1.0.4->ipython->keras-tuner) (0.2.5)\n",
            "Requirement already satisfied: pyparsing!=3.0.5,>=2.0.2 in /usr/local/lib/python3.7/dist-packages (from packaging->keras-tuner) (3.0.6)\n",
            "Requirement already satisfied: ptyprocess>=0.5 in /usr/local/lib/python3.7/dist-packages (from pexpect->ipython->keras-tuner) (0.7.0)\n",
            "Requirement already satisfied: urllib3!=1.25.0,!=1.25.1,<1.26,>=1.21.1 in /usr/local/lib/python3.7/dist-packages (from requests->keras-tuner) (1.24.3)\n",
            "Requirement already satisfied: certifi>=2017.4.17 in /usr/local/lib/python3.7/dist-packages (from requests->keras-tuner) (2021.10.8)\n",
            "Requirement already satisfied: chardet<4,>=3.0.2 in /usr/local/lib/python3.7/dist-packages (from requests->keras-tuner) (3.0.4)\n",
            "Requirement already satisfied: idna<3,>=2.5 in /usr/local/lib/python3.7/dist-packages (from requests->keras-tuner) (2.10)\n",
            "Requirement already satisfied: tensorboard-data-server<0.7.0,>=0.6.0 in /usr/local/lib/python3.7/dist-packages (from tensorboard->keras-tuner) (0.6.1)\n",
            "Requirement already satisfied: protobuf>=3.6.0 in /usr/local/lib/python3.7/dist-packages (from tensorboard->keras-tuner) (3.17.3)\n",
            "Requirement already satisfied: absl-py>=0.4 in /usr/local/lib/python3.7/dist-packages (from tensorboard->keras-tuner) (0.12.0)\n",
            "Requirement already satisfied: google-auth<3,>=1.6.3 in /usr/local/lib/python3.7/dist-packages (from tensorboard->keras-tuner) (1.35.0)\n",
            "Requirement already satisfied: werkzeug>=0.11.15 in /usr/local/lib/python3.7/dist-packages (from tensorboard->keras-tuner) (1.0.1)\n",
            "Requirement already satisfied: wheel>=0.26 in /usr/local/lib/python3.7/dist-packages (from tensorboard->keras-tuner) (0.37.0)\n",
            "Requirement already satisfied: grpcio>=1.24.3 in /usr/local/lib/python3.7/dist-packages (from tensorboard->keras-tuner) (1.42.0)\n",
            "Requirement already satisfied: google-auth-oauthlib<0.5,>=0.4.1 in /usr/local/lib/python3.7/dist-packages (from tensorboard->keras-tuner) (0.4.6)\n",
            "Requirement already satisfied: markdown>=2.6.8 in /usr/local/lib/python3.7/dist-packages (from tensorboard->keras-tuner) (3.3.6)\n",
            "Requirement already satisfied: tensorboard-plugin-wit>=1.6.0 in /usr/local/lib/python3.7/dist-packages (from tensorboard->keras-tuner) (1.8.0)\n",
            "Requirement already satisfied: cachetools<5.0,>=2.0.0 in /usr/local/lib/python3.7/dist-packages (from google-auth<3,>=1.6.3->tensorboard->keras-tuner) (4.2.4)\n",
            "Requirement already satisfied: pyasn1-modules>=0.2.1 in /usr/local/lib/python3.7/dist-packages (from google-auth<3,>=1.6.3->tensorboard->keras-tuner) (0.2.8)\n",
            "Requirement already satisfied: rsa<5,>=3.1.4 in /usr/local/lib/python3.7/dist-packages (from google-auth<3,>=1.6.3->tensorboard->keras-tuner) (4.7.2)\n",
            "Requirement already satisfied: requests-oauthlib>=0.7.0 in /usr/local/lib/python3.7/dist-packages (from google-auth-oauthlib<0.5,>=0.4.1->tensorboard->keras-tuner) (1.3.0)\n",
            "Requirement already satisfied: importlib-metadata>=4.4 in /usr/local/lib/python3.7/dist-packages (from markdown>=2.6.8->tensorboard->keras-tuner) (4.8.2)\n",
            "Requirement already satisfied: zipp>=0.5 in /usr/local/lib/python3.7/dist-packages (from importlib-metadata>=4.4->markdown>=2.6.8->tensorboard->keras-tuner) (3.6.0)\n",
            "Requirement already satisfied: typing-extensions>=3.6.4 in /usr/local/lib/python3.7/dist-packages (from importlib-metadata>=4.4->markdown>=2.6.8->tensorboard->keras-tuner) (3.10.0.2)\n",
            "Requirement already satisfied: pyasn1<0.5.0,>=0.4.6 in /usr/local/lib/python3.7/dist-packages (from pyasn1-modules>=0.2.1->google-auth<3,>=1.6.3->tensorboard->keras-tuner) (0.4.8)\n",
            "Requirement already satisfied: oauthlib>=3.0.0 in /usr/local/lib/python3.7/dist-packages (from requests-oauthlib>=0.7.0->google-auth-oauthlib<0.5,>=0.4.1->tensorboard->keras-tuner) (3.1.1)\n",
            "Installing collected packages: kt-legacy, keras-tuner\n",
            "Successfully installed keras-tuner-1.1.0 kt-legacy-1.0.4\n"
          ]
        }
      ]
    },
    {
      "cell_type": "code",
      "metadata": {
        "id": "tbsW5F3vd7kR",
        "colab": {
          "base_uri": "https://localhost:8080/"
        },
        "outputId": "fb913e2a-d949-442f-cc5a-40d6be66a886"
      },
      "source": [
        "import pandas as pd\n",
        "import numpy as np\n",
        "import matplotlib.pyplot as plt\n",
        "import yfinance as yf\n",
        "import seaborn as sns\n",
        "from sklearn.preprocessing import MinMaxScaler\n",
        "import tensorflow as tf\n",
        "from tensorflow import keras\n",
        "from kerastuner.tuners import RandomSearch\n",
        "from textblob import TextBlob"
      ],
      "execution_count": 3,
      "outputs": [
        {
          "output_type": "stream",
          "name": "stderr",
          "text": [
            "/usr/local/lib/python3.7/dist-packages/ipykernel_launcher.py:9: DeprecationWarning: `import kerastuner` is deprecated, please use `import keras_tuner`.\n",
            "  if __name__ == '__main__':\n"
          ]
        }
      ]
    },
    {
      "cell_type": "code",
      "metadata": {
        "colab": {
          "base_uri": "https://localhost:8080/"
        },
        "id": "RekYtk__ekEF",
        "outputId": "39792690-39db-4296-8361-6c82c10e5a35"
      },
      "source": [
        "#Collecting data from yahoo finance\n",
        "\n",
        "#train data\n",
        "df_data=yf.download('^BSESN', start='2016-01-04', end='2020-07-30')"
      ],
      "execution_count": 4,
      "outputs": [
        {
          "output_type": "stream",
          "name": "stdout",
          "text": [
            "\r[*********************100%***********************]  1 of 1 completed\n"
          ]
        }
      ]
    },
    {
      "cell_type": "code",
      "metadata": {
        "colab": {
          "base_uri": "https://localhost:8080/"
        },
        "id": "zdKtQtNXelET",
        "outputId": "3cc845cd-fe29-4d34-c63f-10b2b014e7c3"
      },
      "source": [
        "print(f\"The shape of train data{df_data.shape}\")"
      ],
      "execution_count": 5,
      "outputs": [
        {
          "output_type": "stream",
          "name": "stdout",
          "text": [
            "The shape of train data(1122, 6)\n"
          ]
        }
      ]
    },
    {
      "cell_type": "code",
      "metadata": {
        "colab": {
          "base_uri": "https://localhost:8080/",
          "height": 455
        },
        "id": "F8ib_AQxgGd7",
        "outputId": "6f9b5762-61d9-47ac-9909-319e19bccc14"
      },
      "source": [
        "df_data"
      ],
      "execution_count": 6,
      "outputs": [
        {
          "output_type": "execute_result",
          "data": {
            "text/html": [
              "<div>\n",
              "<style scoped>\n",
              "    .dataframe tbody tr th:only-of-type {\n",
              "        vertical-align: middle;\n",
              "    }\n",
              "\n",
              "    .dataframe tbody tr th {\n",
              "        vertical-align: top;\n",
              "    }\n",
              "\n",
              "    .dataframe thead th {\n",
              "        text-align: right;\n",
              "    }\n",
              "</style>\n",
              "<table border=\"1\" class=\"dataframe\">\n",
              "  <thead>\n",
              "    <tr style=\"text-align: right;\">\n",
              "      <th></th>\n",
              "      <th>Open</th>\n",
              "      <th>High</th>\n",
              "      <th>Low</th>\n",
              "      <th>Close</th>\n",
              "      <th>Adj Close</th>\n",
              "      <th>Volume</th>\n",
              "    </tr>\n",
              "    <tr>\n",
              "      <th>Date</th>\n",
              "      <th></th>\n",
              "      <th></th>\n",
              "      <th></th>\n",
              "      <th></th>\n",
              "      <th></th>\n",
              "      <th></th>\n",
              "    </tr>\n",
              "  </thead>\n",
              "  <tbody>\n",
              "    <tr>\n",
              "      <th>2016-01-04</th>\n",
              "      <td>26116.519531</td>\n",
              "      <td>26116.519531</td>\n",
              "      <td>25596.570312</td>\n",
              "      <td>25623.349609</td>\n",
              "      <td>25623.349609</td>\n",
              "      <td>9100</td>\n",
              "    </tr>\n",
              "    <tr>\n",
              "      <th>2016-01-05</th>\n",
              "      <td>25744.699219</td>\n",
              "      <td>25766.759766</td>\n",
              "      <td>25513.750000</td>\n",
              "      <td>25580.339844</td>\n",
              "      <td>25580.339844</td>\n",
              "      <td>10300</td>\n",
              "    </tr>\n",
              "    <tr>\n",
              "      <th>2016-01-06</th>\n",
              "      <td>25628.230469</td>\n",
              "      <td>25632.570312</td>\n",
              "      <td>25357.699219</td>\n",
              "      <td>25406.330078</td>\n",
              "      <td>25406.330078</td>\n",
              "      <td>13400</td>\n",
              "    </tr>\n",
              "    <tr>\n",
              "      <th>2016-01-07</th>\n",
              "      <td>25224.699219</td>\n",
              "      <td>25230.349609</td>\n",
              "      <td>24825.699219</td>\n",
              "      <td>24851.830078</td>\n",
              "      <td>24851.830078</td>\n",
              "      <td>11800</td>\n",
              "    </tr>\n",
              "    <tr>\n",
              "      <th>2016-01-08</th>\n",
              "      <td>24969.019531</td>\n",
              "      <td>25083.550781</td>\n",
              "      <td>24887.220703</td>\n",
              "      <td>24934.330078</td>\n",
              "      <td>24934.330078</td>\n",
              "      <td>15900</td>\n",
              "    </tr>\n",
              "    <tr>\n",
              "      <th>...</th>\n",
              "      <td>...</td>\n",
              "      <td>...</td>\n",
              "      <td>...</td>\n",
              "      <td>...</td>\n",
              "      <td>...</td>\n",
              "      <td>...</td>\n",
              "    </tr>\n",
              "    <tr>\n",
              "      <th>2020-07-23</th>\n",
              "      <td>37814.921875</td>\n",
              "      <td>38225.031250</td>\n",
              "      <td>37738.589844</td>\n",
              "      <td>38140.468750</td>\n",
              "      <td>38140.468750</td>\n",
              "      <td>19600</td>\n",
              "    </tr>\n",
              "    <tr>\n",
              "      <th>2020-07-24</th>\n",
              "      <td>37949.589844</td>\n",
              "      <td>38235.730469</td>\n",
              "      <td>37748.410156</td>\n",
              "      <td>38128.898438</td>\n",
              "      <td>38128.898438</td>\n",
              "      <td>19900</td>\n",
              "    </tr>\n",
              "    <tr>\n",
              "      <th>2020-07-27</th>\n",
              "      <td>38275.339844</td>\n",
              "      <td>38275.339844</td>\n",
              "      <td>37769.441406</td>\n",
              "      <td>37934.730469</td>\n",
              "      <td>37934.730469</td>\n",
              "      <td>18600</td>\n",
              "    </tr>\n",
              "    <tr>\n",
              "      <th>2020-07-28</th>\n",
              "      <td>38052.179688</td>\n",
              "      <td>38554.718750</td>\n",
              "      <td>37998.128906</td>\n",
              "      <td>38492.949219</td>\n",
              "      <td>38492.949219</td>\n",
              "      <td>15500</td>\n",
              "    </tr>\n",
              "    <tr>\n",
              "      <th>2020-07-29</th>\n",
              "      <td>38427.148438</td>\n",
              "      <td>38617.031250</td>\n",
              "      <td>37884.410156</td>\n",
              "      <td>38071.128906</td>\n",
              "      <td>38071.128906</td>\n",
              "      <td>17600</td>\n",
              "    </tr>\n",
              "  </tbody>\n",
              "</table>\n",
              "<p>1122 rows × 6 columns</p>\n",
              "</div>"
            ],
            "text/plain": [
              "                    Open          High  ...     Adj Close  Volume\n",
              "Date                                    ...                      \n",
              "2016-01-04  26116.519531  26116.519531  ...  25623.349609    9100\n",
              "2016-01-05  25744.699219  25766.759766  ...  25580.339844   10300\n",
              "2016-01-06  25628.230469  25632.570312  ...  25406.330078   13400\n",
              "2016-01-07  25224.699219  25230.349609  ...  24851.830078   11800\n",
              "2016-01-08  24969.019531  25083.550781  ...  24934.330078   15900\n",
              "...                  ...           ...  ...           ...     ...\n",
              "2020-07-23  37814.921875  38225.031250  ...  38140.468750   19600\n",
              "2020-07-24  37949.589844  38235.730469  ...  38128.898438   19900\n",
              "2020-07-27  38275.339844  38275.339844  ...  37934.730469   18600\n",
              "2020-07-28  38052.179688  38554.718750  ...  38492.949219   15500\n",
              "2020-07-29  38427.148438  38617.031250  ...  38071.128906   17600\n",
              "\n",
              "[1122 rows x 6 columns]"
            ]
          },
          "metadata": {},
          "execution_count": 6
        }
      ]
    },
    {
      "cell_type": "code",
      "metadata": {
        "id": "O9eD86H_wUqG",
        "colab": {
          "base_uri": "https://localhost:8080/",
          "height": 455
        },
        "outputId": "67adb6f7-aea3-4efb-b6b7-06a22e9c0229"
      },
      "source": [
        "df_data=df_data[['Close']]\n",
        "df_data"
      ],
      "execution_count": 7,
      "outputs": [
        {
          "output_type": "execute_result",
          "data": {
            "text/html": [
              "<div>\n",
              "<style scoped>\n",
              "    .dataframe tbody tr th:only-of-type {\n",
              "        vertical-align: middle;\n",
              "    }\n",
              "\n",
              "    .dataframe tbody tr th {\n",
              "        vertical-align: top;\n",
              "    }\n",
              "\n",
              "    .dataframe thead th {\n",
              "        text-align: right;\n",
              "    }\n",
              "</style>\n",
              "<table border=\"1\" class=\"dataframe\">\n",
              "  <thead>\n",
              "    <tr style=\"text-align: right;\">\n",
              "      <th></th>\n",
              "      <th>Close</th>\n",
              "    </tr>\n",
              "    <tr>\n",
              "      <th>Date</th>\n",
              "      <th></th>\n",
              "    </tr>\n",
              "  </thead>\n",
              "  <tbody>\n",
              "    <tr>\n",
              "      <th>2016-01-04</th>\n",
              "      <td>25623.349609</td>\n",
              "    </tr>\n",
              "    <tr>\n",
              "      <th>2016-01-05</th>\n",
              "      <td>25580.339844</td>\n",
              "    </tr>\n",
              "    <tr>\n",
              "      <th>2016-01-06</th>\n",
              "      <td>25406.330078</td>\n",
              "    </tr>\n",
              "    <tr>\n",
              "      <th>2016-01-07</th>\n",
              "      <td>24851.830078</td>\n",
              "    </tr>\n",
              "    <tr>\n",
              "      <th>2016-01-08</th>\n",
              "      <td>24934.330078</td>\n",
              "    </tr>\n",
              "    <tr>\n",
              "      <th>...</th>\n",
              "      <td>...</td>\n",
              "    </tr>\n",
              "    <tr>\n",
              "      <th>2020-07-23</th>\n",
              "      <td>38140.468750</td>\n",
              "    </tr>\n",
              "    <tr>\n",
              "      <th>2020-07-24</th>\n",
              "      <td>38128.898438</td>\n",
              "    </tr>\n",
              "    <tr>\n",
              "      <th>2020-07-27</th>\n",
              "      <td>37934.730469</td>\n",
              "    </tr>\n",
              "    <tr>\n",
              "      <th>2020-07-28</th>\n",
              "      <td>38492.949219</td>\n",
              "    </tr>\n",
              "    <tr>\n",
              "      <th>2020-07-29</th>\n",
              "      <td>38071.128906</td>\n",
              "    </tr>\n",
              "  </tbody>\n",
              "</table>\n",
              "<p>1122 rows × 1 columns</p>\n",
              "</div>"
            ],
            "text/plain": [
              "                   Close\n",
              "Date                    \n",
              "2016-01-04  25623.349609\n",
              "2016-01-05  25580.339844\n",
              "2016-01-06  25406.330078\n",
              "2016-01-07  24851.830078\n",
              "2016-01-08  24934.330078\n",
              "...                  ...\n",
              "2020-07-23  38140.468750\n",
              "2020-07-24  38128.898438\n",
              "2020-07-27  37934.730469\n",
              "2020-07-28  38492.949219\n",
              "2020-07-29  38071.128906\n",
              "\n",
              "[1122 rows x 1 columns]"
            ]
          },
          "metadata": {},
          "execution_count": 7
        }
      ]
    },
    {
      "cell_type": "markdown",
      "metadata": {
        "id": "Jf_aDTSmiv1j"
      },
      "source": [
        "**Visulaization**"
      ]
    },
    {
      "cell_type": "code",
      "metadata": {
        "colab": {
          "base_uri": "https://localhost:8080/",
          "height": 353
        },
        "id": "4xnVB9e2i0tK",
        "outputId": "962f1e0f-c1e9-4db3-d859-d5b8c2b844a3"
      },
      "source": [
        "#Plotting the closing price\n",
        "\n",
        "index=df_data.index\n",
        "plt.figure(figsize=(9,5))\n",
        "sns.lineplot(x=index,y=df_data['Close'],color='green')"
      ],
      "execution_count": 8,
      "outputs": [
        {
          "output_type": "execute_result",
          "data": {
            "text/plain": [
              "<matplotlib.axes._subplots.AxesSubplot at 0x7fb45839fe90>"
            ]
          },
          "metadata": {},
          "execution_count": 8
        },
        {
          "output_type": "display_data",
          "data": {
            "image/png": "[encoded data removed]",
            "text/plain": [
              "<Figure size 648x360 with 1 Axes>"
            ]
          },
          "metadata": {
            "needs_background": "light"
          }
        }
      ]
    },
    {
      "cell_type": "markdown",
      "metadata": {
        "id": "VDn124ScxG5w"
      },
      "source": [
        "**Data Pre-processing**"
      ]
    },
    {
      "cell_type": "code",
      "metadata": {
        "id": "-maUUFQ5yd3L"
      },
      "source": [
        "# Re-shaping the data\n",
        "# df_data=df_data.reshape(-1,1)"
      ],
      "execution_count": 9,
      "outputs": []
    },
    {
      "cell_type": "code",
      "metadata": {
        "id": "Ddgfx0RkvFEg"
      },
      "source": [
        "# Scaling the data\n",
        "scaler=MinMaxScaler()\n",
        "scaled_data=scaler.fit_transform(df_data)"
      ],
      "execution_count": 10,
      "outputs": []
    },
    {
      "cell_type": "code",
      "metadata": {
        "colab": {
          "base_uri": "https://localhost:8080/"
        },
        "id": "6Cee3g6TT7ba",
        "outputId": "03e53803-4f5b-45eb-b3eb-cbf38baeede6"
      },
      "source": [
        "scaled_data"
      ],
      "execution_count": 17,
      "outputs": [
        {
          "output_type": "execute_result",
          "data": {
            "text/plain": [
              "array([0.14060038])"
            ]
          },
          "metadata": {},
          "execution_count": 17
        }
      ]
    },
    {
      "cell_type": "code",
      "metadata": {
        "id": "0OEynJ_Aj12D",
        "colab": {
          "base_uri": "https://localhost:8080/"
        },
        "outputId": "cec0ed8e-6643-4b9f-8ea5-00f5206a3022"
      },
      "source": [
        "#Splitting the data \n",
        "train_size=0.80\n",
        "len_train_data=round(len(df_data)*train_size)\n",
        "training_data=scaled_data[0:len_train_data]\n",
        "testing_data=scaled_data[len_train_data:]\n",
        "print(f'The shape of training data is : {training_data.shape}')\n",
        "print(f'The shape of testing data is : {testing_data.shape}')"
      ],
      "execution_count": 11,
      "outputs": [
        {
          "output_type": "stream",
          "name": "stdout",
          "text": [
            "The shape of training data is : (898, 1)\n",
            "The shape of testing data is : (224, 1)\n"
          ]
        }
      ]
    },
    {
      "cell_type": "code",
      "metadata": {
        "id": "CYBs0HMxelGz"
      },
      "source": [
        "#Creating features for future prediction\n",
        "\n",
        "#We will use past 90 days data to predict the present\n",
        "def feature_extraction(data,start,end):\n",
        "  X_train=[]\n",
        "  y_train=[]\n",
        "  for i in range(start,end):\n",
        "    X_train.append(data[i-50:i])\n",
        "    y_train.append(data[i])\n",
        "  return X_train,y_train"
      ],
      "execution_count": 12,
      "outputs": []
    },
    {
      "cell_type": "code",
      "metadata": {
        "id": "7-YQh05x6T1p"
      },
      "source": [
        "#Creating training data\n",
        "X_train,y_train=feature_extraction(training_data,50,len(training_data))\n",
        "#creating testing data\n",
        "X_test,y_test=feature_extraction(testing_data,50,len(testing_data))"
      ],
      "execution_count": 18,
      "outputs": []
    },
    {
      "cell_type": "code",
      "metadata": {
        "id": "KVTaLWK8elMU"
      },
      "source": [
        "#Converting the list to numpy array\n",
        "#Training data\n",
        "X_train=np.array(X_train)\n",
        "y_train=np.array(y_train)\n",
        "#Testing data\n",
        "X_test=np.array(X_test)\n",
        "y_test=np.array(y_test)"
      ],
      "execution_count": 21,
      "outputs": []
    },
    {
      "cell_type": "code",
      "metadata": {
        "id": "wmF181vFelPA",
        "colab": {
          "base_uri": "https://localhost:8080/"
        },
        "outputId": "43e00b1d-ffff-441c-b102-14ceb1064c77"
      },
      "source": [
        "print(f'The shape of X_train is {X_train.shape}')\n",
        "print(f'The shape of y_train is {y_train.shape}')\n",
        "\n",
        "print(f'The shape of X test is {X_test.shape}')\n",
        "print(f'The shape of y test is {y_test.shape}')"
      ],
      "execution_count": 15,
      "outputs": [
        {
          "output_type": "stream",
          "name": "stdout",
          "text": [
            "The shape of X_train is (848, 50, 1)\n",
            "The shape of y_train is (848, 1)\n",
            "The shape of X test is (174, 50, 1)\n",
            "The shape of y test is (174, 1)\n"
          ]
        }
      ]
    },
    {
      "cell_type": "code",
      "metadata": {
        "id": "5mploIUpelRR",
        "colab": {
          "base_uri": "https://localhost:8080/",
          "height": 443
        },
        "outputId": "8d847648-c36c-47b7-af78-48f597221159"
      },
      "source": [
        "#Creating X train DataFrame\n",
        "#In order to get the original value we should inverse transform the scaled data\n",
        "# We inverse transform here because we will later use it for visualization\n",
        "train_df=pd.DataFrame(scaler.inverse_transform(X_train.reshape(-1,50)),index=np.arange(0,len(X_train)))\n",
        "train_df['target']=scaler.inverse_transform(y_train)\n",
        "train_df"
      ],
      "execution_count": 46,
      "outputs": [
        {
          "output_type": "execute_result",
          "data": {
            "text/html": [
              "<div>\n",
              "<style scoped>\n",
              "    .dataframe tbody tr th:only-of-type {\n",
              "        vertical-align: middle;\n",
              "    }\n",
              "\n",
              "    .dataframe tbody tr th {\n",
              "        vertical-align: top;\n",
              "    }\n",
              "\n",
              "    .dataframe thead th {\n",
              "        text-align: right;\n",
              "    }\n",
              "</style>\n",
              "<table border=\"1\" class=\"dataframe\">\n",
              "  <thead>\n",
              "    <tr style=\"text-align: right;\">\n",
              "      <th></th>\n",
              "      <th>0</th>\n",
              "      <th>1</th>\n",
              "      <th>2</th>\n",
              "      <th>3</th>\n",
              "      <th>4</th>\n",
              "      <th>5</th>\n",
              "      <th>6</th>\n",
              "      <th>7</th>\n",
              "      <th>8</th>\n",
              "      <th>9</th>\n",
              "      <th>10</th>\n",
              "      <th>11</th>\n",
              "      <th>12</th>\n",
              "      <th>13</th>\n",
              "      <th>14</th>\n",
              "      <th>15</th>\n",
              "      <th>16</th>\n",
              "      <th>17</th>\n",
              "      <th>18</th>\n",
              "      <th>19</th>\n",
              "      <th>20</th>\n",
              "      <th>21</th>\n",
              "      <th>22</th>\n",
              "      <th>23</th>\n",
              "      <th>24</th>\n",
              "      <th>25</th>\n",
              "      <th>26</th>\n",
              "      <th>27</th>\n",
              "      <th>28</th>\n",
              "      <th>29</th>\n",
              "      <th>30</th>\n",
              "      <th>31</th>\n",
              "      <th>32</th>\n",
              "      <th>33</th>\n",
              "      <th>34</th>\n",
              "      <th>35</th>\n",
              "      <th>36</th>\n",
              "      <th>37</th>\n",
              "      <th>38</th>\n",
              "      <th>39</th>\n",
              "      <th>40</th>\n",
              "      <th>41</th>\n",
              "      <th>42</th>\n",
              "      <th>43</th>\n",
              "      <th>44</th>\n",
              "      <th>45</th>\n",
              "      <th>46</th>\n",
              "      <th>47</th>\n",
              "      <th>48</th>\n",
              "      <th>49</th>\n",
              "      <th>target</th>\n",
              "    </tr>\n",
              "  </thead>\n",
              "  <tbody>\n",
              "    <tr>\n",
              "      <th>0</th>\n",
              "      <td>25623.349609</td>\n",
              "      <td>25580.339844</td>\n",
              "      <td>25406.330078</td>\n",
              "      <td>24851.830078</td>\n",
              "      <td>24934.330078</td>\n",
              "      <td>24825.039062</td>\n",
              "      <td>24682.029297</td>\n",
              "      <td>24854.109375</td>\n",
              "      <td>24772.970703</td>\n",
              "      <td>24455.039062</td>\n",
              "      <td>24188.369141</td>\n",
              "      <td>24479.839844</td>\n",
              "      <td>24062.039063</td>\n",
              "      <td>23962.210937</td>\n",
              "      <td>24435.660156</td>\n",
              "      <td>24485.949219</td>\n",
              "      <td>24492.390625</td>\n",
              "      <td>24469.570312</td>\n",
              "      <td>24870.689453</td>\n",
              "      <td>24824.830078</td>\n",
              "      <td>24539.000000</td>\n",
              "      <td>24223.320312</td>\n",
              "      <td>24338.429688</td>\n",
              "      <td>24616.970703</td>\n",
              "      <td>24287.419922</td>\n",
              "      <td>24020.980469</td>\n",
              "      <td>23758.900391</td>\n",
              "      <td>22951.830078</td>\n",
              "      <td>22986.119141</td>\n",
              "      <td>23554.119141</td>\n",
              "      <td>23191.970703</td>\n",
              "      <td>23381.869141</td>\n",
              "      <td>23649.220703</td>\n",
              "      <td>23709.150391</td>\n",
              "      <td>23788.789062</td>\n",
              "      <td>23410.179688</td>\n",
              "      <td>23088.929688</td>\n",
              "      <td>22976.000000</td>\n",
              "      <td>23154.300781</td>\n",
              "      <td>23002.000000</td>\n",
              "      <td>23779.349609</td>\n",
              "      <td>24242.980469</td>\n",
              "      <td>24606.990234</td>\n",
              "      <td>24646.480469</td>\n",
              "      <td>24659.230469</td>\n",
              "      <td>24793.960938</td>\n",
              "      <td>24623.339844</td>\n",
              "      <td>24717.990234</td>\n",
              "      <td>24804.279297</td>\n",
              "      <td>24551.169922</td>\n",
              "      <td>24682.480469</td>\n",
              "    </tr>\n",
              "    <tr>\n",
              "      <th>1</th>\n",
              "      <td>25580.339844</td>\n",
              "      <td>25406.330078</td>\n",
              "      <td>24851.830078</td>\n",
              "      <td>24934.330078</td>\n",
              "      <td>24825.039062</td>\n",
              "      <td>24682.029297</td>\n",
              "      <td>24854.109375</td>\n",
              "      <td>24772.970703</td>\n",
              "      <td>24455.039062</td>\n",
              "      <td>24188.369141</td>\n",
              "      <td>24479.839844</td>\n",
              "      <td>24062.039063</td>\n",
              "      <td>23962.210937</td>\n",
              "      <td>24435.660156</td>\n",
              "      <td>24485.949219</td>\n",
              "      <td>24492.390625</td>\n",
              "      <td>24469.570312</td>\n",
              "      <td>24870.689453</td>\n",
              "      <td>24824.830078</td>\n",
              "      <td>24539.000000</td>\n",
              "      <td>24223.320312</td>\n",
              "      <td>24338.429688</td>\n",
              "      <td>24616.970703</td>\n",
              "      <td>24287.419922</td>\n",
              "      <td>24020.980469</td>\n",
              "      <td>23758.900391</td>\n",
              "      <td>22951.830078</td>\n",
              "      <td>22986.119141</td>\n",
              "      <td>23554.119141</td>\n",
              "      <td>23191.970703</td>\n",
              "      <td>23381.869141</td>\n",
              "      <td>23649.220703</td>\n",
              "      <td>23709.150391</td>\n",
              "      <td>23788.789062</td>\n",
              "      <td>23410.179688</td>\n",
              "      <td>23088.929688</td>\n",
              "      <td>22976.000000</td>\n",
              "      <td>23154.300781</td>\n",
              "      <td>23002.000000</td>\n",
              "      <td>23779.349609</td>\n",
              "      <td>24242.980469</td>\n",
              "      <td>24606.990234</td>\n",
              "      <td>24646.480469</td>\n",
              "      <td>24659.230469</td>\n",
              "      <td>24793.960938</td>\n",
              "      <td>24623.339844</td>\n",
              "      <td>24717.990234</td>\n",
              "      <td>24804.279297</td>\n",
              "      <td>24551.169922</td>\n",
              "      <td>24682.480469</td>\n",
              "      <td>24677.369141</td>\n",
              "    </tr>\n",
              "    <tr>\n",
              "      <th>2</th>\n",
              "      <td>25406.330078</td>\n",
              "      <td>24851.830078</td>\n",
              "      <td>24934.330078</td>\n",
              "      <td>24825.039062</td>\n",
              "      <td>24682.029297</td>\n",
              "      <td>24854.109375</td>\n",
              "      <td>24772.970703</td>\n",
              "      <td>24455.039062</td>\n",
              "      <td>24188.369141</td>\n",
              "      <td>24479.839844</td>\n",
              "      <td>24062.039063</td>\n",
              "      <td>23962.210937</td>\n",
              "      <td>24435.660156</td>\n",
              "      <td>24485.949219</td>\n",
              "      <td>24492.390625</td>\n",
              "      <td>24469.570312</td>\n",
              "      <td>24870.689453</td>\n",
              "      <td>24824.830078</td>\n",
              "      <td>24539.000000</td>\n",
              "      <td>24223.320312</td>\n",
              "      <td>24338.429688</td>\n",
              "      <td>24616.970703</td>\n",
              "      <td>24287.419922</td>\n",
              "      <td>24020.980469</td>\n",
              "      <td>23758.900391</td>\n",
              "      <td>22951.830078</td>\n",
              "      <td>22986.119141</td>\n",
              "      <td>23554.119141</td>\n",
              "      <td>23191.970703</td>\n",
              "      <td>23381.869141</td>\n",
              "      <td>23649.220703</td>\n",
              "      <td>23709.150391</td>\n",
              "      <td>23788.789062</td>\n",
              "      <td>23410.179688</td>\n",
              "      <td>23088.929688</td>\n",
              "      <td>22976.000000</td>\n",
              "      <td>23154.300781</td>\n",
              "      <td>23002.000000</td>\n",
              "      <td>23779.349609</td>\n",
              "      <td>24242.980469</td>\n",
              "      <td>24606.990234</td>\n",
              "      <td>24646.480469</td>\n",
              "      <td>24659.230469</td>\n",
              "      <td>24793.960938</td>\n",
              "      <td>24623.339844</td>\n",
              "      <td>24717.990234</td>\n",
              "      <td>24804.279297</td>\n",
              "      <td>24551.169922</td>\n",
              "      <td>24682.480469</td>\n",
              "      <td>24677.369141</td>\n",
              "      <td>24952.740234</td>\n",
              "    </tr>\n",
              "    <tr>\n",
              "      <th>3</th>\n",
              "      <td>24851.830078</td>\n",
              "      <td>24934.330078</td>\n",
              "      <td>24825.039062</td>\n",
              "      <td>24682.029297</td>\n",
              "      <td>24854.109375</td>\n",
              "      <td>24772.970703</td>\n",
              "      <td>24455.039062</td>\n",
              "      <td>24188.369141</td>\n",
              "      <td>24479.839844</td>\n",
              "      <td>24062.039063</td>\n",
              "      <td>23962.210937</td>\n",
              "      <td>24435.660156</td>\n",
              "      <td>24485.949219</td>\n",
              "      <td>24492.390625</td>\n",
              "      <td>24469.570312</td>\n",
              "      <td>24870.689453</td>\n",
              "      <td>24824.830078</td>\n",
              "      <td>24539.000000</td>\n",
              "      <td>24223.320312</td>\n",
              "      <td>24338.429688</td>\n",
              "      <td>24616.970703</td>\n",
              "      <td>24287.419922</td>\n",
              "      <td>24020.980469</td>\n",
              "      <td>23758.900391</td>\n",
              "      <td>22951.830078</td>\n",
              "      <td>22986.119141</td>\n",
              "      <td>23554.119141</td>\n",
              "      <td>23191.970703</td>\n",
              "      <td>23381.869141</td>\n",
              "      <td>23649.220703</td>\n",
              "      <td>23709.150391</td>\n",
              "      <td>23788.789062</td>\n",
              "      <td>23410.179688</td>\n",
              "      <td>23088.929688</td>\n",
              "      <td>22976.000000</td>\n",
              "      <td>23154.300781</td>\n",
              "      <td>23002.000000</td>\n",
              "      <td>23779.349609</td>\n",
              "      <td>24242.980469</td>\n",
              "      <td>24606.990234</td>\n",
              "      <td>24646.480469</td>\n",
              "      <td>24659.230469</td>\n",
              "      <td>24793.960938</td>\n",
              "      <td>24623.339844</td>\n",
              "      <td>24717.990234</td>\n",
              "      <td>24804.279297</td>\n",
              "      <td>24551.169922</td>\n",
              "      <td>24682.480469</td>\n",
              "      <td>24677.369141</td>\n",
              "      <td>24952.740234</td>\n",
              "      <td>25285.369141</td>\n",
              "    </tr>\n",
              "    <tr>\n",
              "      <th>4</th>\n",
              "      <td>24934.330078</td>\n",
              "      <td>24825.039062</td>\n",
              "      <td>24682.029297</td>\n",
              "      <td>24854.109375</td>\n",
              "      <td>24772.970703</td>\n",
              "      <td>24455.039062</td>\n",
              "      <td>24188.369141</td>\n",
              "      <td>24479.839844</td>\n",
              "      <td>24062.039063</td>\n",
              "      <td>23962.210937</td>\n",
              "      <td>24435.660156</td>\n",
              "      <td>24485.949219</td>\n",
              "      <td>24492.390625</td>\n",
              "      <td>24469.570312</td>\n",
              "      <td>24870.689453</td>\n",
              "      <td>24824.830078</td>\n",
              "      <td>24539.000000</td>\n",
              "      <td>24223.320312</td>\n",
              "      <td>24338.429688</td>\n",
              "      <td>24616.970703</td>\n",
              "      <td>24287.419922</td>\n",
              "      <td>24020.980469</td>\n",
              "      <td>23758.900391</td>\n",
              "      <td>22951.830078</td>\n",
              "      <td>22986.119141</td>\n",
              "      <td>23554.119141</td>\n",
              "      <td>23191.970703</td>\n",
              "      <td>23381.869141</td>\n",
              "      <td>23649.220703</td>\n",
              "      <td>23709.150391</td>\n",
              "      <td>23788.789062</td>\n",
              "      <td>23410.179688</td>\n",
              "      <td>23088.929688</td>\n",
              "      <td>22976.000000</td>\n",
              "      <td>23154.300781</td>\n",
              "      <td>23002.000000</td>\n",
              "      <td>23779.349609</td>\n",
              "      <td>24242.980469</td>\n",
              "      <td>24606.990234</td>\n",
              "      <td>24646.480469</td>\n",
              "      <td>24659.230469</td>\n",
              "      <td>24793.960938</td>\n",
              "      <td>24623.339844</td>\n",
              "      <td>24717.990234</td>\n",
              "      <td>24804.279297</td>\n",
              "      <td>24551.169922</td>\n",
              "      <td>24682.480469</td>\n",
              "      <td>24677.369141</td>\n",
              "      <td>24952.740234</td>\n",
              "      <td>25285.369141</td>\n",
              "      <td>25330.490234</td>\n",
              "    </tr>\n",
              "    <tr>\n",
              "      <th>...</th>\n",
              "      <td>...</td>\n",
              "      <td>...</td>\n",
              "      <td>...</td>\n",
              "      <td>...</td>\n",
              "      <td>...</td>\n",
              "      <td>...</td>\n",
              "      <td>...</td>\n",
              "      <td>...</td>\n",
              "      <td>...</td>\n",
              "      <td>...</td>\n",
              "      <td>...</td>\n",
              "      <td>...</td>\n",
              "      <td>...</td>\n",
              "      <td>...</td>\n",
              "      <td>...</td>\n",
              "      <td>...</td>\n",
              "      <td>...</td>\n",
              "      <td>...</td>\n",
              "      <td>...</td>\n",
              "      <td>...</td>\n",
              "      <td>...</td>\n",
              "      <td>...</td>\n",
              "      <td>...</td>\n",
              "      <td>...</td>\n",
              "      <td>...</td>\n",
              "      <td>...</td>\n",
              "      <td>...</td>\n",
              "      <td>...</td>\n",
              "      <td>...</td>\n",
              "      <td>...</td>\n",
              "      <td>...</td>\n",
              "      <td>...</td>\n",
              "      <td>...</td>\n",
              "      <td>...</td>\n",
              "      <td>...</td>\n",
              "      <td>...</td>\n",
              "      <td>...</td>\n",
              "      <td>...</td>\n",
              "      <td>...</td>\n",
              "      <td>...</td>\n",
              "      <td>...</td>\n",
              "      <td>...</td>\n",
              "      <td>...</td>\n",
              "      <td>...</td>\n",
              "      <td>...</td>\n",
              "      <td>...</td>\n",
              "      <td>...</td>\n",
              "      <td>...</td>\n",
              "      <td>...</td>\n",
              "      <td>...</td>\n",
              "      <td>...</td>\n",
              "    </tr>\n",
              "    <tr>\n",
              "      <th>843</th>\n",
              "      <td>39784.519531</td>\n",
              "      <td>39950.460937</td>\n",
              "      <td>39756.808594</td>\n",
              "      <td>39741.359375</td>\n",
              "      <td>39452.070312</td>\n",
              "      <td>38960.789062</td>\n",
              "      <td>39046.339844</td>\n",
              "      <td>39112.738281</td>\n",
              "      <td>39601.628906</td>\n",
              "      <td>39194.488281</td>\n",
              "      <td>39122.960938</td>\n",
              "      <td>39434.941406</td>\n",
              "      <td>39592.078125</td>\n",
              "      <td>39586.410156</td>\n",
              "      <td>39394.640625</td>\n",
              "      <td>39686.500000</td>\n",
              "      <td>39816.480469</td>\n",
              "      <td>39839.250000</td>\n",
              "      <td>39908.058594</td>\n",
              "      <td>39513.390625</td>\n",
              "      <td>38720.570313</td>\n",
              "      <td>38730.820312</td>\n",
              "      <td>38557.039062</td>\n",
              "      <td>38823.109375</td>\n",
              "      <td>38736.230469</td>\n",
              "      <td>38896.710938</td>\n",
              "      <td>39131.039063</td>\n",
              "      <td>39215.640625</td>\n",
              "      <td>38897.460938</td>\n",
              "      <td>38337.011719</td>\n",
              "      <td>38031.128906</td>\n",
              "      <td>37982.738281</td>\n",
              "      <td>37847.648438</td>\n",
              "      <td>37830.980469</td>\n",
              "      <td>37882.789062</td>\n",
              "      <td>37686.371094</td>\n",
              "      <td>37397.238281</td>\n",
              "      <td>37481.121094</td>\n",
              "      <td>37018.320312</td>\n",
              "      <td>37118.218750</td>\n",
              "      <td>36699.839844</td>\n",
              "      <td>36976.851562</td>\n",
              "      <td>36690.500000</td>\n",
              "      <td>37327.359375</td>\n",
              "      <td>37581.910156</td>\n",
              "      <td>36958.160156</td>\n",
              "      <td>37311.531250</td>\n",
              "      <td>37350.328125</td>\n",
              "      <td>37402.488281</td>\n",
              "      <td>37328.011719</td>\n",
              "      <td>37060.371094</td>\n",
              "    </tr>\n",
              "    <tr>\n",
              "      <th>844</th>\n",
              "      <td>39950.460937</td>\n",
              "      <td>39756.808594</td>\n",
              "      <td>39741.359375</td>\n",
              "      <td>39452.070312</td>\n",
              "      <td>38960.789062</td>\n",
              "      <td>39046.339844</td>\n",
              "      <td>39112.738281</td>\n",
              "      <td>39601.628906</td>\n",
              "      <td>39194.488281</td>\n",
              "      <td>39122.960938</td>\n",
              "      <td>39434.941406</td>\n",
              "      <td>39592.078125</td>\n",
              "      <td>39586.410156</td>\n",
              "      <td>39394.640625</td>\n",
              "      <td>39686.500000</td>\n",
              "      <td>39816.480469</td>\n",
              "      <td>39839.250000</td>\n",
              "      <td>39908.058594</td>\n",
              "      <td>39513.390625</td>\n",
              "      <td>38720.570313</td>\n",
              "      <td>38730.820312</td>\n",
              "      <td>38557.039062</td>\n",
              "      <td>38823.109375</td>\n",
              "      <td>38736.230469</td>\n",
              "      <td>38896.710938</td>\n",
              "      <td>39131.039063</td>\n",
              "      <td>39215.640625</td>\n",
              "      <td>38897.460938</td>\n",
              "      <td>38337.011719</td>\n",
              "      <td>38031.128906</td>\n",
              "      <td>37982.738281</td>\n",
              "      <td>37847.648438</td>\n",
              "      <td>37830.980469</td>\n",
              "      <td>37882.789062</td>\n",
              "      <td>37686.371094</td>\n",
              "      <td>37397.238281</td>\n",
              "      <td>37481.121094</td>\n",
              "      <td>37018.320312</td>\n",
              "      <td>37118.218750</td>\n",
              "      <td>36699.839844</td>\n",
              "      <td>36976.851562</td>\n",
              "      <td>36690.500000</td>\n",
              "      <td>37327.359375</td>\n",
              "      <td>37581.910156</td>\n",
              "      <td>36958.160156</td>\n",
              "      <td>37311.531250</td>\n",
              "      <td>37350.328125</td>\n",
              "      <td>37402.488281</td>\n",
              "      <td>37328.011719</td>\n",
              "      <td>37060.371094</td>\n",
              "      <td>36472.929688</td>\n",
              "    </tr>\n",
              "    <tr>\n",
              "      <th>845</th>\n",
              "      <td>39756.808594</td>\n",
              "      <td>39741.359375</td>\n",
              "      <td>39452.070312</td>\n",
              "      <td>38960.789062</td>\n",
              "      <td>39046.339844</td>\n",
              "      <td>39112.738281</td>\n",
              "      <td>39601.628906</td>\n",
              "      <td>39194.488281</td>\n",
              "      <td>39122.960938</td>\n",
              "      <td>39434.941406</td>\n",
              "      <td>39592.078125</td>\n",
              "      <td>39586.410156</td>\n",
              "      <td>39394.640625</td>\n",
              "      <td>39686.500000</td>\n",
              "      <td>39816.480469</td>\n",
              "      <td>39839.250000</td>\n",
              "      <td>39908.058594</td>\n",
              "      <td>39513.390625</td>\n",
              "      <td>38720.570313</td>\n",
              "      <td>38730.820312</td>\n",
              "      <td>38557.039062</td>\n",
              "      <td>38823.109375</td>\n",
              "      <td>38736.230469</td>\n",
              "      <td>38896.710938</td>\n",
              "      <td>39131.039063</td>\n",
              "      <td>39215.640625</td>\n",
              "      <td>38897.460938</td>\n",
              "      <td>38337.011719</td>\n",
              "      <td>38031.128906</td>\n",
              "      <td>37982.738281</td>\n",
              "      <td>37847.648438</td>\n",
              "      <td>37830.980469</td>\n",
              "      <td>37882.789062</td>\n",
              "      <td>37686.371094</td>\n",
              "      <td>37397.238281</td>\n",
              "      <td>37481.121094</td>\n",
              "      <td>37018.320312</td>\n",
              "      <td>37118.218750</td>\n",
              "      <td>36699.839844</td>\n",
              "      <td>36976.851562</td>\n",
              "      <td>36690.500000</td>\n",
              "      <td>37327.359375</td>\n",
              "      <td>37581.910156</td>\n",
              "      <td>36958.160156</td>\n",
              "      <td>37311.531250</td>\n",
              "      <td>37350.328125</td>\n",
              "      <td>37402.488281</td>\n",
              "      <td>37328.011719</td>\n",
              "      <td>37060.371094</td>\n",
              "      <td>36472.929688</td>\n",
              "      <td>36701.160156</td>\n",
              "    </tr>\n",
              "    <tr>\n",
              "      <th>846</th>\n",
              "      <td>39741.359375</td>\n",
              "      <td>39452.070312</td>\n",
              "      <td>38960.789062</td>\n",
              "      <td>39046.339844</td>\n",
              "      <td>39112.738281</td>\n",
              "      <td>39601.628906</td>\n",
              "      <td>39194.488281</td>\n",
              "      <td>39122.960938</td>\n",
              "      <td>39434.941406</td>\n",
              "      <td>39592.078125</td>\n",
              "      <td>39586.410156</td>\n",
              "      <td>39394.640625</td>\n",
              "      <td>39686.500000</td>\n",
              "      <td>39816.480469</td>\n",
              "      <td>39839.250000</td>\n",
              "      <td>39908.058594</td>\n",
              "      <td>39513.390625</td>\n",
              "      <td>38720.570313</td>\n",
              "      <td>38730.820312</td>\n",
              "      <td>38557.039062</td>\n",
              "      <td>38823.109375</td>\n",
              "      <td>38736.230469</td>\n",
              "      <td>38896.710938</td>\n",
              "      <td>39131.039063</td>\n",
              "      <td>39215.640625</td>\n",
              "      <td>38897.460938</td>\n",
              "      <td>38337.011719</td>\n",
              "      <td>38031.128906</td>\n",
              "      <td>37982.738281</td>\n",
              "      <td>37847.648438</td>\n",
              "      <td>37830.980469</td>\n",
              "      <td>37882.789062</td>\n",
              "      <td>37686.371094</td>\n",
              "      <td>37397.238281</td>\n",
              "      <td>37481.121094</td>\n",
              "      <td>37018.320312</td>\n",
              "      <td>37118.218750</td>\n",
              "      <td>36699.839844</td>\n",
              "      <td>36976.851562</td>\n",
              "      <td>36690.500000</td>\n",
              "      <td>37327.359375</td>\n",
              "      <td>37581.910156</td>\n",
              "      <td>36958.160156</td>\n",
              "      <td>37311.531250</td>\n",
              "      <td>37350.328125</td>\n",
              "      <td>37402.488281</td>\n",
              "      <td>37328.011719</td>\n",
              "      <td>37060.371094</td>\n",
              "      <td>36472.929688</td>\n",
              "      <td>36701.160156</td>\n",
              "      <td>37494.121094</td>\n",
              "    </tr>\n",
              "    <tr>\n",
              "      <th>847</th>\n",
              "      <td>39452.070312</td>\n",
              "      <td>38960.789062</td>\n",
              "      <td>39046.339844</td>\n",
              "      <td>39112.738281</td>\n",
              "      <td>39601.628906</td>\n",
              "      <td>39194.488281</td>\n",
              "      <td>39122.960938</td>\n",
              "      <td>39434.941406</td>\n",
              "      <td>39592.078125</td>\n",
              "      <td>39586.410156</td>\n",
              "      <td>39394.640625</td>\n",
              "      <td>39686.500000</td>\n",
              "      <td>39816.480469</td>\n",
              "      <td>39839.250000</td>\n",
              "      <td>39908.058594</td>\n",
              "      <td>39513.390625</td>\n",
              "      <td>38720.570313</td>\n",
              "      <td>38730.820312</td>\n",
              "      <td>38557.039062</td>\n",
              "      <td>38823.109375</td>\n",
              "      <td>38736.230469</td>\n",
              "      <td>38896.710938</td>\n",
              "      <td>39131.039063</td>\n",
              "      <td>39215.640625</td>\n",
              "      <td>38897.460938</td>\n",
              "      <td>38337.011719</td>\n",
              "      <td>38031.128906</td>\n",
              "      <td>37982.738281</td>\n",
              "      <td>37847.648438</td>\n",
              "      <td>37830.980469</td>\n",
              "      <td>37882.789062</td>\n",
              "      <td>37686.371094</td>\n",
              "      <td>37397.238281</td>\n",
              "      <td>37481.121094</td>\n",
              "      <td>37018.320312</td>\n",
              "      <td>37118.218750</td>\n",
              "      <td>36699.839844</td>\n",
              "      <td>36976.851562</td>\n",
              "      <td>36690.500000</td>\n",
              "      <td>37327.359375</td>\n",
              "      <td>37581.910156</td>\n",
              "      <td>36958.160156</td>\n",
              "      <td>37311.531250</td>\n",
              "      <td>37350.328125</td>\n",
              "      <td>37402.488281</td>\n",
              "      <td>37328.011719</td>\n",
              "      <td>37060.371094</td>\n",
              "      <td>36472.929688</td>\n",
              "      <td>36701.160156</td>\n",
              "      <td>37494.121094</td>\n",
              "      <td>37641.269531</td>\n",
              "    </tr>\n",
              "  </tbody>\n",
              "</table>\n",
              "<p>848 rows × 51 columns</p>\n",
              "</div>"
            ],
            "text/plain": [
              "                0             1  ...            49        target\n",
              "0    25623.349609  25580.339844  ...  24551.169922  24682.480469\n",
              "1    25580.339844  25406.330078  ...  24682.480469  24677.369141\n",
              "2    25406.330078  24851.830078  ...  24677.369141  24952.740234\n",
              "3    24851.830078  24934.330078  ...  24952.740234  25285.369141\n",
              "4    24934.330078  24825.039062  ...  25285.369141  25330.490234\n",
              "..            ...           ...  ...           ...           ...\n",
              "843  39784.519531  39950.460937  ...  37328.011719  37060.371094\n",
              "844  39950.460937  39756.808594  ...  37060.371094  36472.929688\n",
              "845  39756.808594  39741.359375  ...  36472.929688  36701.160156\n",
              "846  39741.359375  39452.070312  ...  36701.160156  37494.121094\n",
              "847  39452.070312  38960.789062  ...  37494.121094  37641.269531\n",
              "\n",
              "[848 rows x 51 columns]"
            ]
          },
          "metadata": {},
          "execution_count": 46
        }
      ]
    },
    {
      "cell_type": "code",
      "metadata": {
        "colab": {
          "base_uri": "https://localhost:8080/",
          "height": 443
        },
        "id": "20sa9u7eigka",
        "outputId": "e4ec4705-021b-4846-acc1-41ff51f9a53b"
      },
      "source": [
        "#Creating X test DataFrame\n",
        "test_df=pd.DataFrame(scaler.inverse_transform(X_test.reshape(-1,50)),index=np.arange(len(X_train),len(X_train)+len(X_test)))\n",
        "test_df['target']=scaler.inverse_transform(y_test)\n",
        "test_df"
      ],
      "execution_count": 47,
      "outputs": [
        {
          "output_type": "execute_result",
          "data": {
            "text/html": [
              "<div>\n",
              "<style scoped>\n",
              "    .dataframe tbody tr th:only-of-type {\n",
              "        vertical-align: middle;\n",
              "    }\n",
              "\n",
              "    .dataframe tbody tr th {\n",
              "        vertical-align: top;\n",
              "    }\n",
              "\n",
              "    .dataframe thead th {\n",
              "        text-align: right;\n",
              "    }\n",
              "</style>\n",
              "<table border=\"1\" class=\"dataframe\">\n",
              "  <thead>\n",
              "    <tr style=\"text-align: right;\">\n",
              "      <th></th>\n",
              "      <th>0</th>\n",
              "      <th>1</th>\n",
              "      <th>2</th>\n",
              "      <th>3</th>\n",
              "      <th>4</th>\n",
              "      <th>5</th>\n",
              "      <th>6</th>\n",
              "      <th>7</th>\n",
              "      <th>8</th>\n",
              "      <th>9</th>\n",
              "      <th>10</th>\n",
              "      <th>11</th>\n",
              "      <th>12</th>\n",
              "      <th>13</th>\n",
              "      <th>14</th>\n",
              "      <th>15</th>\n",
              "      <th>16</th>\n",
              "      <th>17</th>\n",
              "      <th>18</th>\n",
              "      <th>19</th>\n",
              "      <th>20</th>\n",
              "      <th>21</th>\n",
              "      <th>22</th>\n",
              "      <th>23</th>\n",
              "      <th>24</th>\n",
              "      <th>25</th>\n",
              "      <th>26</th>\n",
              "      <th>27</th>\n",
              "      <th>28</th>\n",
              "      <th>29</th>\n",
              "      <th>30</th>\n",
              "      <th>31</th>\n",
              "      <th>32</th>\n",
              "      <th>33</th>\n",
              "      <th>34</th>\n",
              "      <th>35</th>\n",
              "      <th>36</th>\n",
              "      <th>37</th>\n",
              "      <th>38</th>\n",
              "      <th>39</th>\n",
              "      <th>40</th>\n",
              "      <th>41</th>\n",
              "      <th>42</th>\n",
              "      <th>43</th>\n",
              "      <th>44</th>\n",
              "      <th>45</th>\n",
              "      <th>46</th>\n",
              "      <th>47</th>\n",
              "      <th>48</th>\n",
              "      <th>49</th>\n",
              "      <th>target</th>\n",
              "    </tr>\n",
              "  </thead>\n",
              "  <tbody>\n",
              "    <tr>\n",
              "      <th>848</th>\n",
              "      <td>37451.839844</td>\n",
              "      <td>37068.929688</td>\n",
              "      <td>37332.789062</td>\n",
              "      <td>36562.910156</td>\n",
              "      <td>36724.738281</td>\n",
              "      <td>36644.421875</td>\n",
              "      <td>36981.769531</td>\n",
              "      <td>37145.449219</td>\n",
              "      <td>37270.820312</td>\n",
              "      <td>37104.281250</td>\n",
              "      <td>37384.988281</td>\n",
              "      <td>37123.308594</td>\n",
              "      <td>36481.089844</td>\n",
              "      <td>36563.878906</td>\n",
              "      <td>36093.468750</td>\n",
              "      <td>38014.621094</td>\n",
              "      <td>39090.031250</td>\n",
              "      <td>39097.140625</td>\n",
              "      <td>38593.519531</td>\n",
              "      <td>38989.738281</td>\n",
              "      <td>38822.570312</td>\n",
              "      <td>38667.328125</td>\n",
              "      <td>38305.410156</td>\n",
              "      <td>38106.871094</td>\n",
              "      <td>37673.308594</td>\n",
              "      <td>37531.980469</td>\n",
              "      <td>38177.949219</td>\n",
              "      <td>37880.398438</td>\n",
              "      <td>38127.078125</td>\n",
              "      <td>38214.468750</td>\n",
              "      <td>38506.089844</td>\n",
              "      <td>38598.988281</td>\n",
              "      <td>39052.058594</td>\n",
              "      <td>39298.378906</td>\n",
              "      <td>38963.839844</td>\n",
              "      <td>39058.828125</td>\n",
              "      <td>39020.390625</td>\n",
              "      <td>39058.058594</td>\n",
              "      <td>39831.839844</td>\n",
              "      <td>40051.871094</td>\n",
              "      <td>40129.050781</td>\n",
              "      <td>40165.031250</td>\n",
              "      <td>40301.960938</td>\n",
              "      <td>40248.230469</td>\n",
              "      <td>40469.781250</td>\n",
              "      <td>40653.738281</td>\n",
              "      <td>40323.609375</td>\n",
              "      <td>40345.078125</td>\n",
              "      <td>40116.058594</td>\n",
              "      <td>40286.480469</td>\n",
              "      <td>40356.691406</td>\n",
              "    </tr>\n",
              "    <tr>\n",
              "      <th>849</th>\n",
              "      <td>37068.929688</td>\n",
              "      <td>37332.789062</td>\n",
              "      <td>36562.910156</td>\n",
              "      <td>36724.738281</td>\n",
              "      <td>36644.421875</td>\n",
              "      <td>36981.769531</td>\n",
              "      <td>37145.449219</td>\n",
              "      <td>37270.820312</td>\n",
              "      <td>37104.281250</td>\n",
              "      <td>37384.988281</td>\n",
              "      <td>37123.308594</td>\n",
              "      <td>36481.089844</td>\n",
              "      <td>36563.878906</td>\n",
              "      <td>36093.468750</td>\n",
              "      <td>38014.621094</td>\n",
              "      <td>39090.031250</td>\n",
              "      <td>39097.140625</td>\n",
              "      <td>38593.519531</td>\n",
              "      <td>38989.738281</td>\n",
              "      <td>38822.570312</td>\n",
              "      <td>38667.328125</td>\n",
              "      <td>38305.410156</td>\n",
              "      <td>38106.871094</td>\n",
              "      <td>37673.308594</td>\n",
              "      <td>37531.980469</td>\n",
              "      <td>38177.949219</td>\n",
              "      <td>37880.398438</td>\n",
              "      <td>38127.078125</td>\n",
              "      <td>38214.468750</td>\n",
              "      <td>38506.089844</td>\n",
              "      <td>38598.988281</td>\n",
              "      <td>39052.058594</td>\n",
              "      <td>39298.378906</td>\n",
              "      <td>38963.839844</td>\n",
              "      <td>39058.828125</td>\n",
              "      <td>39020.390625</td>\n",
              "      <td>39058.058594</td>\n",
              "      <td>39831.839844</td>\n",
              "      <td>40051.871094</td>\n",
              "      <td>40129.050781</td>\n",
              "      <td>40165.031250</td>\n",
              "      <td>40301.960938</td>\n",
              "      <td>40248.230469</td>\n",
              "      <td>40469.781250</td>\n",
              "      <td>40653.738281</td>\n",
              "      <td>40323.609375</td>\n",
              "      <td>40345.078125</td>\n",
              "      <td>40116.058594</td>\n",
              "      <td>40286.480469</td>\n",
              "      <td>40356.691406</td>\n",
              "      <td>40284.191406</td>\n",
              "    </tr>\n",
              "    <tr>\n",
              "      <th>850</th>\n",
              "      <td>37332.789062</td>\n",
              "      <td>36562.910156</td>\n",
              "      <td>36724.738281</td>\n",
              "      <td>36644.421875</td>\n",
              "      <td>36981.769531</td>\n",
              "      <td>37145.449219</td>\n",
              "      <td>37270.820312</td>\n",
              "      <td>37104.281250</td>\n",
              "      <td>37384.988281</td>\n",
              "      <td>37123.308594</td>\n",
              "      <td>36481.089844</td>\n",
              "      <td>36563.878906</td>\n",
              "      <td>36093.468750</td>\n",
              "      <td>38014.621094</td>\n",
              "      <td>39090.031250</td>\n",
              "      <td>39097.140625</td>\n",
              "      <td>38593.519531</td>\n",
              "      <td>38989.738281</td>\n",
              "      <td>38822.570312</td>\n",
              "      <td>38667.328125</td>\n",
              "      <td>38305.410156</td>\n",
              "      <td>38106.871094</td>\n",
              "      <td>37673.308594</td>\n",
              "      <td>37531.980469</td>\n",
              "      <td>38177.949219</td>\n",
              "      <td>37880.398438</td>\n",
              "      <td>38127.078125</td>\n",
              "      <td>38214.468750</td>\n",
              "      <td>38506.089844</td>\n",
              "      <td>38598.988281</td>\n",
              "      <td>39052.058594</td>\n",
              "      <td>39298.378906</td>\n",
              "      <td>38963.839844</td>\n",
              "      <td>39058.828125</td>\n",
              "      <td>39020.390625</td>\n",
              "      <td>39058.058594</td>\n",
              "      <td>39831.839844</td>\n",
              "      <td>40051.871094</td>\n",
              "      <td>40129.050781</td>\n",
              "      <td>40165.031250</td>\n",
              "      <td>40301.960938</td>\n",
              "      <td>40248.230469</td>\n",
              "      <td>40469.781250</td>\n",
              "      <td>40653.738281</td>\n",
              "      <td>40323.609375</td>\n",
              "      <td>40345.078125</td>\n",
              "      <td>40116.058594</td>\n",
              "      <td>40286.480469</td>\n",
              "      <td>40356.691406</td>\n",
              "      <td>40284.191406</td>\n",
              "      <td>40469.699219</td>\n",
              "    </tr>\n",
              "    <tr>\n",
              "      <th>851</th>\n",
              "      <td>36562.910156</td>\n",
              "      <td>36724.738281</td>\n",
              "      <td>36644.421875</td>\n",
              "      <td>36981.769531</td>\n",
              "      <td>37145.449219</td>\n",
              "      <td>37270.820312</td>\n",
              "      <td>37104.281250</td>\n",
              "      <td>37384.988281</td>\n",
              "      <td>37123.308594</td>\n",
              "      <td>36481.089844</td>\n",
              "      <td>36563.878906</td>\n",
              "      <td>36093.468750</td>\n",
              "      <td>38014.621094</td>\n",
              "      <td>39090.031250</td>\n",
              "      <td>39097.140625</td>\n",
              "      <td>38593.519531</td>\n",
              "      <td>38989.738281</td>\n",
              "      <td>38822.570312</td>\n",
              "      <td>38667.328125</td>\n",
              "      <td>38305.410156</td>\n",
              "      <td>38106.871094</td>\n",
              "      <td>37673.308594</td>\n",
              "      <td>37531.980469</td>\n",
              "      <td>38177.949219</td>\n",
              "      <td>37880.398438</td>\n",
              "      <td>38127.078125</td>\n",
              "      <td>38214.468750</td>\n",
              "      <td>38506.089844</td>\n",
              "      <td>38598.988281</td>\n",
              "      <td>39052.058594</td>\n",
              "      <td>39298.378906</td>\n",
              "      <td>38963.839844</td>\n",
              "      <td>39058.828125</td>\n",
              "      <td>39020.390625</td>\n",
              "      <td>39058.058594</td>\n",
              "      <td>39831.839844</td>\n",
              "      <td>40051.871094</td>\n",
              "      <td>40129.050781</td>\n",
              "      <td>40165.031250</td>\n",
              "      <td>40301.960938</td>\n",
              "      <td>40248.230469</td>\n",
              "      <td>40469.781250</td>\n",
              "      <td>40653.738281</td>\n",
              "      <td>40323.609375</td>\n",
              "      <td>40345.078125</td>\n",
              "      <td>40116.058594</td>\n",
              "      <td>40286.480469</td>\n",
              "      <td>40356.691406</td>\n",
              "      <td>40284.191406</td>\n",
              "      <td>40469.699219</td>\n",
              "      <td>40651.640625</td>\n",
              "    </tr>\n",
              "    <tr>\n",
              "      <th>852</th>\n",
              "      <td>36724.738281</td>\n",
              "      <td>36644.421875</td>\n",
              "      <td>36981.769531</td>\n",
              "      <td>37145.449219</td>\n",
              "      <td>37270.820312</td>\n",
              "      <td>37104.281250</td>\n",
              "      <td>37384.988281</td>\n",
              "      <td>37123.308594</td>\n",
              "      <td>36481.089844</td>\n",
              "      <td>36563.878906</td>\n",
              "      <td>36093.468750</td>\n",
              "      <td>38014.621094</td>\n",
              "      <td>39090.031250</td>\n",
              "      <td>39097.140625</td>\n",
              "      <td>38593.519531</td>\n",
              "      <td>38989.738281</td>\n",
              "      <td>38822.570312</td>\n",
              "      <td>38667.328125</td>\n",
              "      <td>38305.410156</td>\n",
              "      <td>38106.871094</td>\n",
              "      <td>37673.308594</td>\n",
              "      <td>37531.980469</td>\n",
              "      <td>38177.949219</td>\n",
              "      <td>37880.398438</td>\n",
              "      <td>38127.078125</td>\n",
              "      <td>38214.468750</td>\n",
              "      <td>38506.089844</td>\n",
              "      <td>38598.988281</td>\n",
              "      <td>39052.058594</td>\n",
              "      <td>39298.378906</td>\n",
              "      <td>38963.839844</td>\n",
              "      <td>39058.828125</td>\n",
              "      <td>39020.390625</td>\n",
              "      <td>39058.058594</td>\n",
              "      <td>39831.839844</td>\n",
              "      <td>40051.871094</td>\n",
              "      <td>40129.050781</td>\n",
              "      <td>40165.031250</td>\n",
              "      <td>40301.960938</td>\n",
              "      <td>40248.230469</td>\n",
              "      <td>40469.781250</td>\n",
              "      <td>40653.738281</td>\n",
              "      <td>40323.609375</td>\n",
              "      <td>40345.078125</td>\n",
              "      <td>40116.058594</td>\n",
              "      <td>40286.480469</td>\n",
              "      <td>40356.691406</td>\n",
              "      <td>40284.191406</td>\n",
              "      <td>40469.699219</td>\n",
              "      <td>40651.640625</td>\n",
              "      <td>40575.171875</td>\n",
              "    </tr>\n",
              "    <tr>\n",
              "      <th>...</th>\n",
              "      <td>...</td>\n",
              "      <td>...</td>\n",
              "      <td>...</td>\n",
              "      <td>...</td>\n",
              "      <td>...</td>\n",
              "      <td>...</td>\n",
              "      <td>...</td>\n",
              "      <td>...</td>\n",
              "      <td>...</td>\n",
              "      <td>...</td>\n",
              "      <td>...</td>\n",
              "      <td>...</td>\n",
              "      <td>...</td>\n",
              "      <td>...</td>\n",
              "      <td>...</td>\n",
              "      <td>...</td>\n",
              "      <td>...</td>\n",
              "      <td>...</td>\n",
              "      <td>...</td>\n",
              "      <td>...</td>\n",
              "      <td>...</td>\n",
              "      <td>...</td>\n",
              "      <td>...</td>\n",
              "      <td>...</td>\n",
              "      <td>...</td>\n",
              "      <td>...</td>\n",
              "      <td>...</td>\n",
              "      <td>...</td>\n",
              "      <td>...</td>\n",
              "      <td>...</td>\n",
              "      <td>...</td>\n",
              "      <td>...</td>\n",
              "      <td>...</td>\n",
              "      <td>...</td>\n",
              "      <td>...</td>\n",
              "      <td>...</td>\n",
              "      <td>...</td>\n",
              "      <td>...</td>\n",
              "      <td>...</td>\n",
              "      <td>...</td>\n",
              "      <td>...</td>\n",
              "      <td>...</td>\n",
              "      <td>...</td>\n",
              "      <td>...</td>\n",
              "      <td>...</td>\n",
              "      <td>...</td>\n",
              "      <td>...</td>\n",
              "      <td>...</td>\n",
              "      <td>...</td>\n",
              "      <td>...</td>\n",
              "      <td>...</td>\n",
              "    </tr>\n",
              "    <tr>\n",
              "      <th>1017</th>\n",
              "      <td>32008.609375</td>\n",
              "      <td>31122.890625</td>\n",
              "      <td>31097.730469</td>\n",
              "      <td>30028.980469</td>\n",
              "      <td>30196.169922</td>\n",
              "      <td>30818.609375</td>\n",
              "      <td>30932.900391</td>\n",
              "      <td>30672.589844</td>\n",
              "      <td>30609.300781</td>\n",
              "      <td>31605.220703</td>\n",
              "      <td>32200.589844</td>\n",
              "      <td>32424.099609</td>\n",
              "      <td>33303.519531</td>\n",
              "      <td>33825.531250</td>\n",
              "      <td>34109.539062</td>\n",
              "      <td>33980.699219</td>\n",
              "      <td>34287.238281</td>\n",
              "      <td>34370.578125</td>\n",
              "      <td>33956.691406</td>\n",
              "      <td>34247.050781</td>\n",
              "      <td>33538.371094</td>\n",
              "      <td>33780.890625</td>\n",
              "      <td>33228.800781</td>\n",
              "      <td>33605.218750</td>\n",
              "      <td>33507.921875</td>\n",
              "      <td>34208.050781</td>\n",
              "      <td>34731.730469</td>\n",
              "      <td>34911.320312</td>\n",
              "      <td>35430.429688</td>\n",
              "      <td>34868.980469</td>\n",
              "      <td>34842.101562</td>\n",
              "      <td>35171.269531</td>\n",
              "      <td>34961.519531</td>\n",
              "      <td>34915.800781</td>\n",
              "      <td>35414.449219</td>\n",
              "      <td>35843.699219</td>\n",
              "      <td>36021.421875</td>\n",
              "      <td>36487.281250</td>\n",
              "      <td>36674.519531</td>\n",
              "      <td>36329.011719</td>\n",
              "      <td>36737.691406</td>\n",
              "      <td>36594.328125</td>\n",
              "      <td>36693.691406</td>\n",
              "      <td>36033.058594</td>\n",
              "      <td>36051.808594</td>\n",
              "      <td>36471.679688</td>\n",
              "      <td>37020.140625</td>\n",
              "      <td>37418.988281</td>\n",
              "      <td>37930.328125</td>\n",
              "      <td>37871.519531</td>\n",
              "      <td>38140.468750</td>\n",
              "    </tr>\n",
              "    <tr>\n",
              "      <th>1018</th>\n",
              "      <td>31122.890625</td>\n",
              "      <td>31097.730469</td>\n",
              "      <td>30028.980469</td>\n",
              "      <td>30196.169922</td>\n",
              "      <td>30818.609375</td>\n",
              "      <td>30932.900391</td>\n",
              "      <td>30672.589844</td>\n",
              "      <td>30609.300781</td>\n",
              "      <td>31605.220703</td>\n",
              "      <td>32200.589844</td>\n",
              "      <td>32424.099609</td>\n",
              "      <td>33303.519531</td>\n",
              "      <td>33825.531250</td>\n",
              "      <td>34109.539062</td>\n",
              "      <td>33980.699219</td>\n",
              "      <td>34287.238281</td>\n",
              "      <td>34370.578125</td>\n",
              "      <td>33956.691406</td>\n",
              "      <td>34247.050781</td>\n",
              "      <td>33538.371094</td>\n",
              "      <td>33780.890625</td>\n",
              "      <td>33228.800781</td>\n",
              "      <td>33605.218750</td>\n",
              "      <td>33507.921875</td>\n",
              "      <td>34208.050781</td>\n",
              "      <td>34731.730469</td>\n",
              "      <td>34911.320312</td>\n",
              "      <td>35430.429688</td>\n",
              "      <td>34868.980469</td>\n",
              "      <td>34842.101562</td>\n",
              "      <td>35171.269531</td>\n",
              "      <td>34961.519531</td>\n",
              "      <td>34915.800781</td>\n",
              "      <td>35414.449219</td>\n",
              "      <td>35843.699219</td>\n",
              "      <td>36021.421875</td>\n",
              "      <td>36487.281250</td>\n",
              "      <td>36674.519531</td>\n",
              "      <td>36329.011719</td>\n",
              "      <td>36737.691406</td>\n",
              "      <td>36594.328125</td>\n",
              "      <td>36693.691406</td>\n",
              "      <td>36033.058594</td>\n",
              "      <td>36051.808594</td>\n",
              "      <td>36471.679688</td>\n",
              "      <td>37020.140625</td>\n",
              "      <td>37418.988281</td>\n",
              "      <td>37930.328125</td>\n",
              "      <td>37871.519531</td>\n",
              "      <td>38140.468750</td>\n",
              "      <td>38128.898438</td>\n",
              "    </tr>\n",
              "    <tr>\n",
              "      <th>1019</th>\n",
              "      <td>31097.730469</td>\n",
              "      <td>30028.980469</td>\n",
              "      <td>30196.169922</td>\n",
              "      <td>30818.609375</td>\n",
              "      <td>30932.900391</td>\n",
              "      <td>30672.589844</td>\n",
              "      <td>30609.300781</td>\n",
              "      <td>31605.220703</td>\n",
              "      <td>32200.589844</td>\n",
              "      <td>32424.099609</td>\n",
              "      <td>33303.519531</td>\n",
              "      <td>33825.531250</td>\n",
              "      <td>34109.539062</td>\n",
              "      <td>33980.699219</td>\n",
              "      <td>34287.238281</td>\n",
              "      <td>34370.578125</td>\n",
              "      <td>33956.691406</td>\n",
              "      <td>34247.050781</td>\n",
              "      <td>33538.371094</td>\n",
              "      <td>33780.890625</td>\n",
              "      <td>33228.800781</td>\n",
              "      <td>33605.218750</td>\n",
              "      <td>33507.921875</td>\n",
              "      <td>34208.050781</td>\n",
              "      <td>34731.730469</td>\n",
              "      <td>34911.320312</td>\n",
              "      <td>35430.429688</td>\n",
              "      <td>34868.980469</td>\n",
              "      <td>34842.101562</td>\n",
              "      <td>35171.269531</td>\n",
              "      <td>34961.519531</td>\n",
              "      <td>34915.800781</td>\n",
              "      <td>35414.449219</td>\n",
              "      <td>35843.699219</td>\n",
              "      <td>36021.421875</td>\n",
              "      <td>36487.281250</td>\n",
              "      <td>36674.519531</td>\n",
              "      <td>36329.011719</td>\n",
              "      <td>36737.691406</td>\n",
              "      <td>36594.328125</td>\n",
              "      <td>36693.691406</td>\n",
              "      <td>36033.058594</td>\n",
              "      <td>36051.808594</td>\n",
              "      <td>36471.679688</td>\n",
              "      <td>37020.140625</td>\n",
              "      <td>37418.988281</td>\n",
              "      <td>37930.328125</td>\n",
              "      <td>37871.519531</td>\n",
              "      <td>38140.468750</td>\n",
              "      <td>38128.898438</td>\n",
              "      <td>37934.730469</td>\n",
              "    </tr>\n",
              "    <tr>\n",
              "      <th>1020</th>\n",
              "      <td>30028.980469</td>\n",
              "      <td>30196.169922</td>\n",
              "      <td>30818.609375</td>\n",
              "      <td>30932.900391</td>\n",
              "      <td>30672.589844</td>\n",
              "      <td>30609.300781</td>\n",
              "      <td>31605.220703</td>\n",
              "      <td>32200.589844</td>\n",
              "      <td>32424.099609</td>\n",
              "      <td>33303.519531</td>\n",
              "      <td>33825.531250</td>\n",
              "      <td>34109.539062</td>\n",
              "      <td>33980.699219</td>\n",
              "      <td>34287.238281</td>\n",
              "      <td>34370.578125</td>\n",
              "      <td>33956.691406</td>\n",
              "      <td>34247.050781</td>\n",
              "      <td>33538.371094</td>\n",
              "      <td>33780.890625</td>\n",
              "      <td>33228.800781</td>\n",
              "      <td>33605.218750</td>\n",
              "      <td>33507.921875</td>\n",
              "      <td>34208.050781</td>\n",
              "      <td>34731.730469</td>\n",
              "      <td>34911.320312</td>\n",
              "      <td>35430.429688</td>\n",
              "      <td>34868.980469</td>\n",
              "      <td>34842.101562</td>\n",
              "      <td>35171.269531</td>\n",
              "      <td>34961.519531</td>\n",
              "      <td>34915.800781</td>\n",
              "      <td>35414.449219</td>\n",
              "      <td>35843.699219</td>\n",
              "      <td>36021.421875</td>\n",
              "      <td>36487.281250</td>\n",
              "      <td>36674.519531</td>\n",
              "      <td>36329.011719</td>\n",
              "      <td>36737.691406</td>\n",
              "      <td>36594.328125</td>\n",
              "      <td>36693.691406</td>\n",
              "      <td>36033.058594</td>\n",
              "      <td>36051.808594</td>\n",
              "      <td>36471.679688</td>\n",
              "      <td>37020.140625</td>\n",
              "      <td>37418.988281</td>\n",
              "      <td>37930.328125</td>\n",
              "      <td>37871.519531</td>\n",
              "      <td>38140.468750</td>\n",
              "      <td>38128.898438</td>\n",
              "      <td>37934.730469</td>\n",
              "      <td>38492.949219</td>\n",
              "    </tr>\n",
              "    <tr>\n",
              "      <th>1021</th>\n",
              "      <td>30196.169922</td>\n",
              "      <td>30818.609375</td>\n",
              "      <td>30932.900391</td>\n",
              "      <td>30672.589844</td>\n",
              "      <td>30609.300781</td>\n",
              "      <td>31605.220703</td>\n",
              "      <td>32200.589844</td>\n",
              "      <td>32424.099609</td>\n",
              "      <td>33303.519531</td>\n",
              "      <td>33825.531250</td>\n",
              "      <td>34109.539062</td>\n",
              "      <td>33980.699219</td>\n",
              "      <td>34287.238281</td>\n",
              "      <td>34370.578125</td>\n",
              "      <td>33956.691406</td>\n",
              "      <td>34247.050781</td>\n",
              "      <td>33538.371094</td>\n",
              "      <td>33780.890625</td>\n",
              "      <td>33228.800781</td>\n",
              "      <td>33605.218750</td>\n",
              "      <td>33507.921875</td>\n",
              "      <td>34208.050781</td>\n",
              "      <td>34731.730469</td>\n",
              "      <td>34911.320312</td>\n",
              "      <td>35430.429688</td>\n",
              "      <td>34868.980469</td>\n",
              "      <td>34842.101562</td>\n",
              "      <td>35171.269531</td>\n",
              "      <td>34961.519531</td>\n",
              "      <td>34915.800781</td>\n",
              "      <td>35414.449219</td>\n",
              "      <td>35843.699219</td>\n",
              "      <td>36021.421875</td>\n",
              "      <td>36487.281250</td>\n",
              "      <td>36674.519531</td>\n",
              "      <td>36329.011719</td>\n",
              "      <td>36737.691406</td>\n",
              "      <td>36594.328125</td>\n",
              "      <td>36693.691406</td>\n",
              "      <td>36033.058594</td>\n",
              "      <td>36051.808594</td>\n",
              "      <td>36471.679688</td>\n",
              "      <td>37020.140625</td>\n",
              "      <td>37418.988281</td>\n",
              "      <td>37930.328125</td>\n",
              "      <td>37871.519531</td>\n",
              "      <td>38140.468750</td>\n",
              "      <td>38128.898438</td>\n",
              "      <td>37934.730469</td>\n",
              "      <td>38492.949219</td>\n",
              "      <td>38071.128906</td>\n",
              "    </tr>\n",
              "  </tbody>\n",
              "</table>\n",
              "<p>174 rows × 51 columns</p>\n",
              "</div>"
            ],
            "text/plain": [
              "                 0             1  ...            49        target\n",
              "848   37451.839844  37068.929688  ...  40286.480469  40356.691406\n",
              "849   37068.929688  37332.789062  ...  40356.691406  40284.191406\n",
              "850   37332.789062  36562.910156  ...  40284.191406  40469.699219\n",
              "851   36562.910156  36724.738281  ...  40469.699219  40651.640625\n",
              "852   36724.738281  36644.421875  ...  40651.640625  40575.171875\n",
              "...            ...           ...  ...           ...           ...\n",
              "1017  32008.609375  31122.890625  ...  37871.519531  38140.468750\n",
              "1018  31122.890625  31097.730469  ...  38140.468750  38128.898438\n",
              "1019  31097.730469  30028.980469  ...  38128.898438  37934.730469\n",
              "1020  30028.980469  30196.169922  ...  37934.730469  38492.949219\n",
              "1021  30196.169922  30818.609375  ...  38492.949219  38071.128906\n",
              "\n",
              "[174 rows x 51 columns]"
            ]
          },
          "metadata": {},
          "execution_count": 47
        }
      ]
    },
    {
      "cell_type": "markdown",
      "metadata": {
        "id": "cxmHZz3x_-P8"
      },
      "source": [
        "**Building model**"
      ]
    },
    {
      "cell_type": "code",
      "metadata": {
        "id": "N1k69uWR7t9a"
      },
      "source": [
        "#Now let us try to find the best model\n",
        "#Hypertuning the LSTM model\n",
        "\n",
        "#Adding LSTM layers\n",
        "\n",
        "# def build_model(hp):\n",
        "#   model=keras.Sequential()\n",
        "#   model.add(keras.layers.LSTM(units=hp.Int('units',min_value=32,max_value=512,step=32),\n",
        "#                                            return_sequences=True,input_shape=(X_train.shape[1],1)))\n",
        "#   for i in range(hp.Int('layers',min_value=2,max_value=5)):\n",
        "#     model.add(keras.layers.LSTM(units=hp.Int('units '+str(i),min_value=32,max_value=512,step=32),\n",
        "#                                              return_sequences=True))\n",
        "\n",
        "#   #Adding dense layers\n",
        "#   model.add(keras.layers.Dense(units=1,activation=\"sigmoid\"))\n",
        "#   #Compiling the model\n",
        "#   model.compile(optimizer='adam',loss='mean_squared_error')\n",
        "#   return model\n",
        "\n",
        "# tuner = RandomSearch(\n",
        "#     build_model,\n",
        "#     objective='val_mean_squared_error',\n",
        "#     max_trials=5,\n",
        "#     executions_per_trial=2,\n",
        "#     directory='my_dir',\n",
        "#     project_name='test'\n",
        "#     )\n",
        "\n",
        "# tuner.search(X_train,y_train,epochs=5,validation_data=(X_test,y_test))\n",
        "# tuner.results_summary()"
      ],
      "execution_count": null,
      "outputs": []
    },
    {
      "cell_type": "markdown",
      "metadata": {
        "id": "8zqkDhnBdoQj"
      },
      "source": [
        "Here we are using sigmoid function in the final layer because we want our final output to be b/w 0 and 1 so that we can then inverse tranform it and get the actual value. Since I have normalised the data between 0 and 1 so using a sigmoid function gives more accuracy then using no activation function"
      ]
    },
    {
      "cell_type": "code",
      "metadata": {
        "colab": {
          "base_uri": "https://localhost:8080/"
        },
        "id": "oznWkhlMFlAw",
        "outputId": "0bef7777-1356-46c5-c3b2-1af79602f570"
      },
      "source": [
        "#Final model\n",
        "\n",
        "\n",
        "model=keras.Sequential()\n",
        "model.add(keras.layers.LSTM(units=384,return_sequences=True,input_shape=(X_train.shape[1],1)))\n",
        "model.add(keras.layers.LSTM(units=384,return_sequences=True))\n",
        "model.add(keras.layers.LSTM(units=384,return_sequences=True))\n",
        "model.add(keras.layers.LSTM(units=384,return_sequences=False))\n",
        "model.add(keras.layers.Dense(units=1,activation=\"sigmoid\"))\n",
        "model.summary()"
      ],
      "execution_count": 83,
      "outputs": [
        {
          "output_type": "stream",
          "name": "stdout",
          "text": [
            "Model: \"sequential_5\"\n",
            "_________________________________________________________________\n",
            " Layer (type)                Output Shape              Param #   \n",
            "=================================================================\n",
            " lstm_20 (LSTM)              (None, 50, 384)           592896    \n",
            "                                                                 \n",
            " lstm_21 (LSTM)              (None, 50, 384)           1181184   \n",
            "                                                                 \n",
            " lstm_22 (LSTM)              (None, 50, 384)           1181184   \n",
            "                                                                 \n",
            " lstm_23 (LSTM)              (None, 384)               1181184   \n",
            "                                                                 \n",
            " dense_8 (Dense)             (None, 1)                 385       \n",
            "                                                                 \n",
            "=================================================================\n",
            "Total params: 4,136,833\n",
            "Trainable params: 4,136,833\n",
            "Non-trainable params: 0\n",
            "_________________________________________________________________\n"
          ]
        }
      ]
    },
    {
      "cell_type": "code",
      "metadata": {
        "colab": {
          "base_uri": "https://localhost:8080/"
        },
        "id": "3UR8GljEWqOe",
        "outputId": "dca78b0e-ce4f-4d0a-bb25-1237cb72dddd"
      },
      "source": [
        "model.compile(optimizer='adam',loss='mse')\n",
        "callback_chk=keras.callbacks.ModelCheckpoint(filepath='best_model.h5',save_best_only=True)\n",
        "model_history=model.fit(X_train,y_train,epochs=30,validation_data=(X_test,y_test),callbacks=[callback_chk])"
      ],
      "execution_count": 84,
      "outputs": [
        {
          "output_type": "stream",
          "name": "stdout",
          "text": [
            "Epoch 1/30\n",
            "27/27 [==============================] - 12s 170ms/step - loss: 0.0215 - val_loss: 0.0284\n",
            "Epoch 2/30\n",
            "27/27 [==============================] - 3s 98ms/step - loss: 0.0025 - val_loss: 0.0212\n",
            "Epoch 3/30\n",
            "27/27 [==============================] - 3s 98ms/step - loss: 0.0017 - val_loss: 0.0176\n",
            "Epoch 4/30\n",
            "27/27 [==============================] - 3s 98ms/step - loss: 0.0017 - val_loss: 0.0142\n",
            "Epoch 5/30\n",
            "27/27 [==============================] - 3s 98ms/step - loss: 0.0014 - val_loss: 0.0126\n",
            "Epoch 6/30\n",
            "27/27 [==============================] - 3s 98ms/step - loss: 0.0011 - val_loss: 0.0107\n",
            "Epoch 7/30\n",
            "27/27 [==============================] - 3s 99ms/step - loss: 0.0011 - val_loss: 0.0092\n",
            "Epoch 8/30\n",
            "27/27 [==============================] - 2s 93ms/step - loss: 0.0011 - val_loss: 0.0095\n",
            "Epoch 9/30\n",
            "27/27 [==============================] - 2s 93ms/step - loss: 0.0012 - val_loss: 0.0093\n",
            "Epoch 10/30\n",
            "27/27 [==============================] - 3s 98ms/step - loss: 0.0011 - val_loss: 0.0074\n",
            "Epoch 11/30\n",
            "27/27 [==============================] - 2s 92ms/step - loss: 9.1114e-04 - val_loss: 0.0075\n",
            "Epoch 12/30\n",
            "27/27 [==============================] - 3s 98ms/step - loss: 8.4608e-04 - val_loss: 0.0060\n",
            "Epoch 13/30\n",
            "27/27 [==============================] - 2s 93ms/step - loss: 7.8536e-04 - val_loss: 0.0070\n",
            "Epoch 14/30\n",
            "27/27 [==============================] - 3s 98ms/step - loss: 9.4953e-04 - val_loss: 0.0059\n",
            "Epoch 15/30\n",
            "27/27 [==============================] - 2s 93ms/step - loss: 0.0012 - val_loss: 0.0068\n",
            "Epoch 16/30\n",
            "27/27 [==============================] - 3s 94ms/step - loss: 9.3146e-04 - val_loss: 0.0060\n",
            "Epoch 17/30\n",
            "27/27 [==============================] - 3s 99ms/step - loss: 9.0404e-04 - val_loss: 0.0050\n",
            "Epoch 18/30\n",
            "27/27 [==============================] - 3s 98ms/step - loss: 7.2751e-04 - val_loss: 0.0044\n",
            "Epoch 19/30\n",
            "27/27 [==============================] - 3s 99ms/step - loss: 6.5287e-04 - val_loss: 0.0044\n",
            "Epoch 20/30\n",
            "27/27 [==============================] - 3s 98ms/step - loss: 6.3159e-04 - val_loss: 0.0039\n",
            "Epoch 21/30\n",
            "27/27 [==============================] - 3s 98ms/step - loss: 5.9380e-04 - val_loss: 0.0035\n",
            "Epoch 22/30\n",
            "27/27 [==============================] - 2s 93ms/step - loss: 5.6512e-04 - val_loss: 0.0036\n",
            "Epoch 23/30\n",
            "27/27 [==============================] - 3s 97ms/step - loss: 4.8660e-04 - val_loss: 0.0032\n",
            "Epoch 24/30\n",
            "27/27 [==============================] - 2s 92ms/step - loss: 4.9664e-04 - val_loss: 0.0037\n",
            "Epoch 25/30\n",
            "27/27 [==============================] - 3s 98ms/step - loss: 4.7896e-04 - val_loss: 0.0029\n",
            "Epoch 26/30\n",
            "27/27 [==============================] - 3s 97ms/step - loss: 4.9736e-04 - val_loss: 0.0027\n",
            "Epoch 27/30\n",
            "27/27 [==============================] - 2s 92ms/step - loss: 4.0490e-04 - val_loss: 0.0028\n",
            "Epoch 28/30\n",
            "27/27 [==============================] - 3s 97ms/step - loss: 4.8156e-04 - val_loss: 0.0027\n",
            "Epoch 29/30\n",
            "27/27 [==============================] - 3s 98ms/step - loss: 4.6389e-04 - val_loss: 0.0025\n",
            "Epoch 30/30\n",
            "27/27 [==============================] - 2s 93ms/step - loss: 5.0823e-04 - val_loss: 0.0051\n"
          ]
        }
      ]
    },
    {
      "cell_type": "code",
      "metadata": {
        "id": "uclEgPuk8sbR"
      },
      "source": [
        "model=keras.models.load_model('best_model.h5')"
      ],
      "execution_count": 85,
      "outputs": []
    },
    {
      "cell_type": "code",
      "metadata": {
        "id": "3vG9BiMIUocT",
        "colab": {
          "base_uri": "https://localhost:8080/",
          "height": 298
        },
        "outputId": "6846e199-4030-438e-94c9-81dc6bf1cd10"
      },
      "source": [
        "#Plotting the losses\n",
        "\n",
        "loss=model_history.history['loss']\n",
        "val_loss=model_history.history['val_loss']\n",
        "index=np.arange(30)\n",
        "sns.lineplot(x=index,y=loss)\n",
        "sns.lineplot(x=index,y=val_loss)\n",
        "plt.ylabel('loss')\n",
        "plt.xlabel('iterations')\n",
        "plt.legend(['training loss','validation loss'])"
      ],
      "execution_count": 86,
      "outputs": [
        {
          "output_type": "execute_result",
          "data": {
            "text/plain": [
              "<matplotlib.legend.Legend at 0x7fb3d2354150>"
            ]
          },
          "metadata": {},
          "execution_count": 86
        },
        {
          "output_type": "display_data",
          "data": {
            "image/png": "[encoded data removed]",
            "text/plain": [
              "<Figure size 432x288 with 1 Axes>"
            ]
          },
          "metadata": {
            "needs_background": "light"
          }
        }
      ]
    },
    {
      "cell_type": "markdown",
      "metadata": {
        "id": "zxECXTxgAEge"
      },
      "source": [
        "**Making predictions**"
      ]
    },
    {
      "cell_type": "code",
      "metadata": {
        "id": "BdvznqkUZUT1"
      },
      "source": [
        "#Lets try to predict with some data \n",
        "\n",
        "predictions=model.predict(X_test)"
      ],
      "execution_count": 87,
      "outputs": []
    },
    {
      "cell_type": "code",
      "metadata": {
        "colab": {
          "base_uri": "https://localhost:8080/"
        },
        "id": "VfPy1lDXRYPA",
        "outputId": "11ff74ea-bac7-465f-8609-7be27b3feeba"
      },
      "source": [
        "predictions.shape"
      ],
      "execution_count": 88,
      "outputs": [
        {
          "output_type": "execute_result",
          "data": {
            "text/plain": [
              "(174, 1)"
            ]
          },
          "metadata": {},
          "execution_count": 88
        }
      ]
    },
    {
      "cell_type": "code",
      "metadata": {
        "id": "yaqc4VxNZ9PH"
      },
      "source": [
        "#Performing inverse transformation on predictions and actual value\n",
        "\n",
        "predictions_inv=scaler.inverse_transform(predictions)\n",
        "y_test_inv=scaler.inverse_transform(y_test)"
      ],
      "execution_count": 89,
      "outputs": []
    },
    {
      "cell_type": "code",
      "metadata": {
        "id": "SuNvXb8Qd0Sk",
        "colab": {
          "base_uri": "https://localhost:8080/"
        },
        "outputId": "f0a26f73-b029-44c2-ffaf-e832bd064cb7"
      },
      "source": [
        "#RMSE\n",
        "\n",
        "rmse_error=np.sqrt(np.mean(pow((predictions_inv-y_test_inv),2)))\n",
        "rmse_error"
      ],
      "execution_count": 90,
      "outputs": [
        {
          "output_type": "execute_result",
          "data": {
            "text/plain": [
              "956.1756966205292"
            ]
          },
          "metadata": {},
          "execution_count": 90
        }
      ]
    },
    {
      "cell_type": "code",
      "metadata": {
        "colab": {
          "base_uri": "https://localhost:8080/"
        },
        "id": "sJ_fQWDmZxR7",
        "outputId": "6d6bf9de-6d3e-4c5d-bd76-27beb1c328c3"
      },
      "source": [
        "# R squared\n",
        "from sklearn.metrics import r2_score\n",
        "r2_score(y_test_inv,predictions_inv)\n",
        "#Adjusted R square\n",
        "# print(1-(1-r2_score(y_test_inv, predictions_inv))*((len(X_test)-1)/(len(X_test)-len(X_test.columns)-1)))"
      ],
      "execution_count": 91,
      "outputs": [
        {
          "output_type": "execute_result",
          "data": {
            "text/plain": [
              "0.9544955710525744"
            ]
          },
          "metadata": {},
          "execution_count": 91
        }
      ]
    },
    {
      "cell_type": "code",
      "metadata": {
        "id": "Qp7BhWL5ZxXz"
      },
      "source": [
        ""
      ],
      "execution_count": 91,
      "outputs": []
    },
    {
      "cell_type": "markdown",
      "metadata": {
        "id": "IIT7Xng4ESBX"
      },
      "source": [
        "**Graphical analysis**"
      ]
    },
    {
      "cell_type": "code",
      "metadata": {
        "id": "oDjH9Fo1h_wz",
        "colab": {
          "base_uri": "https://localhost:8080/",
          "height": 334
        },
        "outputId": "bc97d5f9-c6e9-4b57-c96e-2907b5a18ec8"
      },
      "source": [
        "#Plotting the training data,testing data and predicted data\n",
        "plt.figure(figsize=(8,5))\n",
        "train_df['target'].plot()\n",
        "test_df['target'].plot()\n",
        "test_df['predictions']=predictions_inv\n",
        "test_df['predictions'].plot()\n",
        "plt.xlabel('indices')\n",
        "plt.ylabel('Closing price')\n",
        "plt.legend(['training','actual','predictions'])\n",
        "plt.show()"
      ],
      "execution_count": 92,
      "outputs": [
        {
          "output_type": "display_data",
          "data": {
            "image/png": "[encoded data removed]",
            "text/plain": [
              "<Figure size 576x360 with 1 Axes>"
            ]
          },
          "metadata": {
            "needs_background": "light"
          }
        }
      ]
    },
    {
      "cell_type": "code",
      "metadata": {
        "id": "SlBVNCHxdtt8",
        "colab": {
          "base_uri": "https://localhost:8080/",
          "height": 279
        },
        "outputId": "c446fae5-b3ee-4efc-b09b-8d5b4dc64c8b"
      },
      "source": [
        "#Zooming the predictions portion\n",
        "\n",
        "plt.plot(predictions_inv)\n",
        "plt.plot(y_test_inv)\n",
        "plt.legend(['predictions','actual'])\n",
        "plt.xlabel('indices')\n",
        "plt.ylabel('Closing price')\n",
        "plt.show()"
      ],
      "execution_count": 93,
      "outputs": [
        {
          "output_type": "display_data",
          "data": {
            "image/png": "[encoded data removed]",
            "text/plain": [
              "<Figure size 432x288 with 1 Axes>"
            ]
          },
          "metadata": {
            "needs_background": "light"
          }
        }
      ]
    },
    {
      "cell_type": "markdown",
      "metadata": {
        "id": "4wnc34Uy4Sxx"
      },
      "source": [
        "<h1>Textual analysis of news report"
      ]
    },
    {
      "cell_type": "code",
      "metadata": {
        "id": "9hhkynhW4Zbd"
      },
      "source": [
        "df_news=pd.read_csv('/content/drive/MyDrive/Colab Notebooks/stock prediction news/india-news-headlines.csv')"
      ],
      "execution_count": null,
      "outputs": []
    },
    {
      "cell_type": "code",
      "metadata": {
        "colab": {
          "base_uri": "https://localhost:8080/",
          "height": 206
        },
        "id": "xqRm5vBLEaPf",
        "outputId": "92760f15-a17d-461b-befc-5aa3107ee141"
      },
      "source": [
        "df_news.head()"
      ],
      "execution_count": null,
      "outputs": [
        {
          "output_type": "execute_result",
          "data": {
            "text/html": [
              "<div>\n",
              "<style scoped>\n",
              "    .dataframe tbody tr th:only-of-type {\n",
              "        vertical-align: middle;\n",
              "    }\n",
              "\n",
              "    .dataframe tbody tr th {\n",
              "        vertical-align: top;\n",
              "    }\n",
              "\n",
              "    .dataframe thead th {\n",
              "        text-align: right;\n",
              "    }\n",
              "</style>\n",
              "<table border=\"1\" class=\"dataframe\">\n",
              "  <thead>\n",
              "    <tr style=\"text-align: right;\">\n",
              "      <th></th>\n",
              "      <th>publish_date</th>\n",
              "      <th>headline_category</th>\n",
              "      <th>headline_text</th>\n",
              "    </tr>\n",
              "  </thead>\n",
              "  <tbody>\n",
              "    <tr>\n",
              "      <th>0</th>\n",
              "      <td>20010102</td>\n",
              "      <td>unknown</td>\n",
              "      <td>Status quo will not be disturbed at Ayodhya; s...</td>\n",
              "    </tr>\n",
              "    <tr>\n",
              "      <th>1</th>\n",
              "      <td>20010102</td>\n",
              "      <td>unknown</td>\n",
              "      <td>Fissures in Hurriyat over Pak visit</td>\n",
              "    </tr>\n",
              "    <tr>\n",
              "      <th>2</th>\n",
              "      <td>20010102</td>\n",
              "      <td>unknown</td>\n",
              "      <td>America's unwanted heading for India?</td>\n",
              "    </tr>\n",
              "    <tr>\n",
              "      <th>3</th>\n",
              "      <td>20010102</td>\n",
              "      <td>unknown</td>\n",
              "      <td>For bigwigs; it is destination Goa</td>\n",
              "    </tr>\n",
              "    <tr>\n",
              "      <th>4</th>\n",
              "      <td>20010102</td>\n",
              "      <td>unknown</td>\n",
              "      <td>Extra buses to clear tourist traffic</td>\n",
              "    </tr>\n",
              "  </tbody>\n",
              "</table>\n",
              "</div>"
            ],
            "text/plain": [
              "   publish_date  ...                                      headline_text\n",
              "0      20010102  ...  Status quo will not be disturbed at Ayodhya; s...\n",
              "1      20010102  ...                Fissures in Hurriyat over Pak visit\n",
              "2      20010102  ...              America's unwanted heading for India?\n",
              "3      20010102  ...                 For bigwigs; it is destination Goa\n",
              "4      20010102  ...               Extra buses to clear tourist traffic\n",
              "\n",
              "[5 rows x 3 columns]"
            ]
          },
          "metadata": {
            "tags": []
          },
          "execution_count": 29
        }
      ]
    },
    {
      "cell_type": "code",
      "metadata": {
        "id": "f31iZMnkaDBN"
      },
      "source": [
        "#Converting the publish date data type to date time\n",
        "df_news['Date']=pd.to_datetime(df_news['publish_date'],format='%Y%m%d')\n",
        "df_news.drop(columns='publish_date',inplace=True)"
      ],
      "execution_count": null,
      "outputs": []
    },
    {
      "cell_type": "code",
      "metadata": {
        "colab": {
          "base_uri": "https://localhost:8080/",
          "height": 424
        },
        "id": "FNH9LFIsEc37",
        "outputId": "c888e6d6-a7d6-40f7-e626-de865c12806a"
      },
      "source": [
        "df_news"
      ],
      "execution_count": null,
      "outputs": [
        {
          "output_type": "execute_result",
          "data": {
            "text/html": [
              "<div>\n",
              "<style scoped>\n",
              "    .dataframe tbody tr th:only-of-type {\n",
              "        vertical-align: middle;\n",
              "    }\n",
              "\n",
              "    .dataframe tbody tr th {\n",
              "        vertical-align: top;\n",
              "    }\n",
              "\n",
              "    .dataframe thead th {\n",
              "        text-align: right;\n",
              "    }\n",
              "</style>\n",
              "<table border=\"1\" class=\"dataframe\">\n",
              "  <thead>\n",
              "    <tr style=\"text-align: right;\">\n",
              "      <th></th>\n",
              "      <th>headline_category</th>\n",
              "      <th>headline_text</th>\n",
              "      <th>Date</th>\n",
              "    </tr>\n",
              "  </thead>\n",
              "  <tbody>\n",
              "    <tr>\n",
              "      <th>0</th>\n",
              "      <td>unknown</td>\n",
              "      <td>Status quo will not be disturbed at Ayodhya; s...</td>\n",
              "      <td>2001-01-02</td>\n",
              "    </tr>\n",
              "    <tr>\n",
              "      <th>1</th>\n",
              "      <td>unknown</td>\n",
              "      <td>Fissures in Hurriyat over Pak visit</td>\n",
              "      <td>2001-01-02</td>\n",
              "    </tr>\n",
              "    <tr>\n",
              "      <th>2</th>\n",
              "      <td>unknown</td>\n",
              "      <td>America's unwanted heading for India?</td>\n",
              "      <td>2001-01-02</td>\n",
              "    </tr>\n",
              "    <tr>\n",
              "      <th>3</th>\n",
              "      <td>unknown</td>\n",
              "      <td>For bigwigs; it is destination Goa</td>\n",
              "      <td>2001-01-02</td>\n",
              "    </tr>\n",
              "    <tr>\n",
              "      <th>4</th>\n",
              "      <td>unknown</td>\n",
              "      <td>Extra buses to clear tourist traffic</td>\n",
              "      <td>2001-01-02</td>\n",
              "    </tr>\n",
              "    <tr>\n",
              "      <th>...</th>\n",
              "      <td>...</td>\n",
              "      <td>...</td>\n",
              "      <td>...</td>\n",
              "    </tr>\n",
              "    <tr>\n",
              "      <th>3424062</th>\n",
              "      <td>city.jodhpur</td>\n",
              "      <td>Covid-19: Despite dip in cases; Rajasthan amon...</td>\n",
              "      <td>2020-12-31</td>\n",
              "    </tr>\n",
              "    <tr>\n",
              "      <th>3424063</th>\n",
              "      <td>city.udaipur</td>\n",
              "      <td>Covid-19: Despite dip in cases; Rajasthan amon...</td>\n",
              "      <td>2020-12-31</td>\n",
              "    </tr>\n",
              "    <tr>\n",
              "      <th>3424064</th>\n",
              "      <td>city.ajmer</td>\n",
              "      <td>Covid-19: Despite dip in cases; Rajasthan amon...</td>\n",
              "      <td>2020-12-31</td>\n",
              "    </tr>\n",
              "    <tr>\n",
              "      <th>3424065</th>\n",
              "      <td>removed</td>\n",
              "      <td>Govt extends deadline for use of FASTag till F...</td>\n",
              "      <td>2020-12-31</td>\n",
              "    </tr>\n",
              "    <tr>\n",
              "      <th>3424066</th>\n",
              "      <td>entertainment.bengali.movies.news</td>\n",
              "      <td>Celebs plan to party safely and responsibly on...</td>\n",
              "      <td>2020-12-31</td>\n",
              "    </tr>\n",
              "  </tbody>\n",
              "</table>\n",
              "<p>3424067 rows × 3 columns</p>\n",
              "</div>"
            ],
            "text/plain": [
              "                         headline_category  ...       Date\n",
              "0                                  unknown  ... 2001-01-02\n",
              "1                                  unknown  ... 2001-01-02\n",
              "2                                  unknown  ... 2001-01-02\n",
              "3                                  unknown  ... 2001-01-02\n",
              "4                                  unknown  ... 2001-01-02\n",
              "...                                    ...  ...        ...\n",
              "3424062                       city.jodhpur  ... 2020-12-31\n",
              "3424063                       city.udaipur  ... 2020-12-31\n",
              "3424064                         city.ajmer  ... 2020-12-31\n",
              "3424065                            removed  ... 2020-12-31\n",
              "3424066  entertainment.bengali.movies.news  ... 2020-12-31\n",
              "\n",
              "[3424067 rows x 3 columns]"
            ]
          },
          "metadata": {
            "tags": []
          },
          "execution_count": 31
        }
      ]
    },
    {
      "cell_type": "code",
      "metadata": {
        "colab": {
          "base_uri": "https://localhost:8080/"
        },
        "id": "d0t5Txh9lDi6",
        "outputId": "672fcd51-c8b3-4947-e2f7-7fac232eb776"
      },
      "source": [
        "#How Textblob works\n",
        "test='I am a not very good boy'\n",
        "TextBlob(test).sentiment"
      ],
      "execution_count": null,
      "outputs": [
        {
          "output_type": "execute_result",
          "data": {
            "text/plain": [
              "Sentiment(polarity=-0.26923076923076916, subjectivity=0.46153846153846156)"
            ]
          },
          "metadata": {
            "tags": []
          },
          "execution_count": 32
        }
      ]
    },
    {
      "cell_type": "code",
      "metadata": {
        "id": "yCb_A9XelDlz"
      },
      "source": [
        "#Fucntions to obtain polarity and subjectivity from the text\n",
        "def polarity(text):\n",
        "  pol_val=TextBlob(text).sentiment.polarity\n",
        "  return pol_val\n",
        "def subjectivity(text):\n",
        "  sub_val=TextBlob(text).sentiment.subjectivity\n",
        "  return sub_val"
      ],
      "execution_count": null,
      "outputs": []
    },
    {
      "cell_type": "code",
      "metadata": {
        "id": "SbyF5ZhBlC0S"
      },
      "source": [
        "df_news['polarity']=df_news['headline_text'].apply(polarity)\n",
        "df_news['subjectivity']=df_news['headline_text'].apply(subjectivity)"
      ],
      "execution_count": null,
      "outputs": []
    },
    {
      "cell_type": "code",
      "metadata": {
        "id": "vR-h6dQUoEqX"
      },
      "source": [
        "# Function for Sentiment analysis\n",
        "def sentiment_analysis(polarity_val):\n",
        "  if polarity_val>0:\n",
        "    senti_val='Positive'\n",
        "  elif polarity_val==0:\n",
        "    senti_val=\"Neutral\"\n",
        "  else:\n",
        "    senti_val='Negative'\n",
        "  return senti_val"
      ],
      "execution_count": null,
      "outputs": []
    },
    {
      "cell_type": "code",
      "metadata": {
        "id": "5hgaArp_rd11"
      },
      "source": [
        "df_news['Sentiment']=df_news['polarity'].apply(sentiment_analysis)"
      ],
      "execution_count": null,
      "outputs": []
    },
    {
      "cell_type": "code",
      "metadata": {
        "colab": {
          "base_uri": "https://localhost:8080/",
          "height": 424
        },
        "id": "UT4vgztKrpAb",
        "outputId": "7a6be8c6-c5f1-4dbb-e4bc-9023e5102769"
      },
      "source": [
        "df_news"
      ],
      "execution_count": null,
      "outputs": [
        {
          "output_type": "execute_result",
          "data": {
            "text/html": [
              "<div>\n",
              "<style scoped>\n",
              "    .dataframe tbody tr th:only-of-type {\n",
              "        vertical-align: middle;\n",
              "    }\n",
              "\n",
              "    .dataframe tbody tr th {\n",
              "        vertical-align: top;\n",
              "    }\n",
              "\n",
              "    .dataframe thead th {\n",
              "        text-align: right;\n",
              "    }\n",
              "</style>\n",
              "<table border=\"1\" class=\"dataframe\">\n",
              "  <thead>\n",
              "    <tr style=\"text-align: right;\">\n",
              "      <th></th>\n",
              "      <th>headline_category</th>\n",
              "      <th>headline_text</th>\n",
              "      <th>Date</th>\n",
              "      <th>polarity</th>\n",
              "      <th>Sentiment</th>\n",
              "    </tr>\n",
              "  </thead>\n",
              "  <tbody>\n",
              "    <tr>\n",
              "      <th>0</th>\n",
              "      <td>unknown</td>\n",
              "      <td>Status quo will not be disturbed at Ayodhya; s...</td>\n",
              "      <td>2001-01-02</td>\n",
              "      <td>0.000000</td>\n",
              "      <td>Neutral</td>\n",
              "    </tr>\n",
              "    <tr>\n",
              "      <th>1</th>\n",
              "      <td>unknown</td>\n",
              "      <td>Fissures in Hurriyat over Pak visit</td>\n",
              "      <td>2001-01-02</td>\n",
              "      <td>0.000000</td>\n",
              "      <td>Neutral</td>\n",
              "    </tr>\n",
              "    <tr>\n",
              "      <th>2</th>\n",
              "      <td>unknown</td>\n",
              "      <td>America's unwanted heading for India?</td>\n",
              "      <td>2001-01-02</td>\n",
              "      <td>0.000000</td>\n",
              "      <td>Neutral</td>\n",
              "    </tr>\n",
              "    <tr>\n",
              "      <th>3</th>\n",
              "      <td>unknown</td>\n",
              "      <td>For bigwigs; it is destination Goa</td>\n",
              "      <td>2001-01-02</td>\n",
              "      <td>0.000000</td>\n",
              "      <td>Neutral</td>\n",
              "    </tr>\n",
              "    <tr>\n",
              "      <th>4</th>\n",
              "      <td>unknown</td>\n",
              "      <td>Extra buses to clear tourist traffic</td>\n",
              "      <td>2001-01-02</td>\n",
              "      <td>0.050000</td>\n",
              "      <td>Positive</td>\n",
              "    </tr>\n",
              "    <tr>\n",
              "      <th>...</th>\n",
              "      <td>...</td>\n",
              "      <td>...</td>\n",
              "      <td>...</td>\n",
              "      <td>...</td>\n",
              "      <td>...</td>\n",
              "    </tr>\n",
              "    <tr>\n",
              "      <th>3424062</th>\n",
              "      <td>city.jodhpur</td>\n",
              "      <td>Covid-19: Despite dip in cases; Rajasthan amon...</td>\n",
              "      <td>2020-12-31</td>\n",
              "      <td>0.500000</td>\n",
              "      <td>Positive</td>\n",
              "    </tr>\n",
              "    <tr>\n",
              "      <th>3424063</th>\n",
              "      <td>city.udaipur</td>\n",
              "      <td>Covid-19: Despite dip in cases; Rajasthan amon...</td>\n",
              "      <td>2020-12-31</td>\n",
              "      <td>0.500000</td>\n",
              "      <td>Positive</td>\n",
              "    </tr>\n",
              "    <tr>\n",
              "      <th>3424064</th>\n",
              "      <td>city.ajmer</td>\n",
              "      <td>Covid-19: Despite dip in cases; Rajasthan amon...</td>\n",
              "      <td>2020-12-31</td>\n",
              "      <td>0.500000</td>\n",
              "      <td>Positive</td>\n",
              "    </tr>\n",
              "    <tr>\n",
              "      <th>3424065</th>\n",
              "      <td>removed</td>\n",
              "      <td>Govt extends deadline for use of FASTag till F...</td>\n",
              "      <td>2020-12-31</td>\n",
              "      <td>0.000000</td>\n",
              "      <td>Neutral</td>\n",
              "    </tr>\n",
              "    <tr>\n",
              "      <th>3424066</th>\n",
              "      <td>entertainment.bengali.movies.news</td>\n",
              "      <td>Celebs plan to party safely and responsibly on...</td>\n",
              "      <td>2020-12-31</td>\n",
              "      <td>0.318182</td>\n",
              "      <td>Positive</td>\n",
              "    </tr>\n",
              "  </tbody>\n",
              "</table>\n",
              "<p>3424067 rows × 5 columns</p>\n",
              "</div>"
            ],
            "text/plain": [
              "                         headline_category  ... Sentiment\n",
              "0                                  unknown  ...   Neutral\n",
              "1                                  unknown  ...   Neutral\n",
              "2                                  unknown  ...   Neutral\n",
              "3                                  unknown  ...   Neutral\n",
              "4                                  unknown  ...  Positive\n",
              "...                                    ...  ...       ...\n",
              "3424062                       city.jodhpur  ...  Positive\n",
              "3424063                       city.udaipur  ...  Positive\n",
              "3424064                         city.ajmer  ...  Positive\n",
              "3424065                            removed  ...   Neutral\n",
              "3424066  entertainment.bengali.movies.news  ...  Positive\n",
              "\n",
              "[3424067 rows x 5 columns]"
            ]
          },
          "metadata": {
            "tags": []
          },
          "execution_count": 37
        }
      ]
    },
    {
      "cell_type": "code",
      "metadata": {
        "id": "Cn1tznxMsRwG"
      },
      "source": [
        "#Dropping duplicate rows\n",
        "df_news.drop_duplicates(inplace=True)"
      ],
      "execution_count": null,
      "outputs": []
    },
    {
      "cell_type": "code",
      "metadata": {
        "id": "5ucuR7_zs2C5"
      },
      "source": [
        "df_news.reset_index(inplace=True)"
      ],
      "execution_count": null,
      "outputs": []
    },
    {
      "cell_type": "code",
      "metadata": {
        "id": "-AB38gQi2SRX"
      },
      "source": [
        "df_news.drop(columns='index',inplace=True)"
      ],
      "execution_count": null,
      "outputs": []
    },
    {
      "cell_type": "code",
      "metadata": {
        "colab": {
          "base_uri": "https://localhost:8080/"
        },
        "id": "kTsfy2ITrz_-",
        "outputId": "4f58869b-9e83-459d-bbd4-13fd3e5f2b10"
      },
      "source": [
        "# Printing some Positive,Negative and Neutral text\n",
        "#Positive\n",
        "count=0\n",
        "for i in range(0,50):\n",
        "  if df_news['Sentiment'][i]=='Positive':\n",
        "    print(str(count)+\"  \" +df_news['headline_text'][i])\n",
        "    count+=1"
      ],
      "execution_count": null,
      "outputs": [
        {
          "output_type": "stream",
          "text": [
            "0  Extra buses to clear tourist traffic\n",
            "1  Will Qureshi's return really help the govt?\n",
            "2  Come to Nandi Hills...and you can fly\n",
            "3  HAL approached for super jumbo project\n",
            "4  The best music of the year\n",
            "5  Planning Dept seeks Rs 350 crore more\n",
            "6  More engg colleges if needed in state: Govt\n",
            "7  Akki-Alur and Ranebennur peaceful\n"
          ],
          "name": "stdout"
        }
      ]
    },
    {
      "cell_type": "code",
      "metadata": {
        "colab": {
          "base_uri": "https://localhost:8080/"
        },
        "id": "3vkYHBrIsyoy",
        "outputId": "c5f26775-8dde-4c7b-d74a-61e055a1b98d"
      },
      "source": [
        "#Negtaive\n",
        "count=0\n",
        "for i in range(0,50):\n",
        "  if df_news['Sentiment'][i]=='Negative':\n",
        "    print(str(count)+\"  \" +df_news['headline_text'][i])\n",
        "    count+=1"
      ],
      "execution_count": null,
      "outputs": [
        {
          "output_type": "stream",
          "text": [
            "0  Destroying myths and doubts on sexuality\n"
          ],
          "name": "stdout"
        }
      ]
    },
    {
      "cell_type": "code",
      "metadata": {
        "colab": {
          "base_uri": "https://localhost:8080/"
        },
        "id": "84NgBtjJvdP7",
        "outputId": "6b457402-a858-4e23-d7a5-f47e260f6c9a"
      },
      "source": [
        "#Neutral\n",
        "count=0\n",
        "for i in range(0,50):\n",
        "  if df_news['Sentiment'][i]=='Neutral':\n",
        "    print(str(count)+\"  \" +df_news['headline_text'][i])\n",
        "    count+=1"
      ],
      "execution_count": null,
      "outputs": [
        {
          "output_type": "stream",
          "text": [
            "0  Status quo will not be disturbed at Ayodhya; says Vajpayee\n",
            "1  Fissures in Hurriyat over Pak visit\n",
            "2  America's unwanted heading for India?\n",
            "3  For bigwigs; it is destination Goa\n",
            "4  Dilute the power of transfers; says Riberio\n",
            "5  Focus shifts to teaching of Hindi\n",
            "6  IT will become compulsory in schools\n",
            "7  Move to stop freedom fighters' pension flayed\n",
            "8  Gilani claims he applied for passport 2 years ago\n",
            "9  Parivar dismisses PM's warning\n",
            "10  India; Pak exchange lists of N-plants\n",
            "11  PM's tacit message: Put Ram tample on hold\n",
            "12  Text of the Prime Minister's article\n",
            "13  NCW to focus on violence against women\n",
            "14  BBC's reality TV will focus on AIIMS\n",
            "15  Jaitley firm on legal reforms\n",
            "16  Hoshangabad farmers have enough water\n",
            "17  BJP jumps into rail track conversion issue\n",
            "18  State may take AP to court over Krishna\n",
            "19  This official has sued the briber\n",
            "20  Park turns temple compound as residents watch\n",
            "21  Moves afoot to evict squatters in Urban dist\n",
            "22  Mafia calls the shots in Gandhinagar too\n",
            "23  Nagathihalli returns with Preethiya Hudugi\n",
            "24  Fashion in the future\n",
            "25  Promises to keep\n",
            "26  Home is where the holistic science is\n",
            "27  A noisy effort to spruce up Commercial Street\n",
            "28  Redemption night; amid some rock\n",
            "29  Consul is back from month-long leave\n",
            "30  Bomb hoax triggers panic in Canara Bank\n",
            "31  Petition over ministers' assets dismissed\n",
            "32  He beat polio; but a truck driver's is no life\n",
            "33  Auto driver's murder: 4 held\n",
            "34  Meet held on cashew crop forecasting\n",
            "35  Awareness rally on AIDS today\n",
            "36  Record power generation at RTPS\n",
            "37  Snags delay digital maps of city\n",
            "38  Making education a people's movement\n",
            "39  Murder spoils 2001 party in Dharwad\n",
            "40  Now a website on a seer\n"
          ],
          "name": "stdout"
        }
      ]
    },
    {
      "cell_type": "code",
      "metadata": {
        "colab": {
          "base_uri": "https://localhost:8080/",
          "height": 398
        },
        "id": "_UBFcKcFwx0M",
        "outputId": "3f4f7e15-9fb9-43f9-f591-10e77962a3c2"
      },
      "source": [
        "#Visualizing the number of Poitive,Negative and Neutral classes\n",
        "plt.figure(figsize=(8,5))\n",
        "plt.xlabel('Sentiment')\n",
        "plt.ylabel('Total values')\n",
        "df_news['Sentiment'].value_counts().plot(kind='bar')"
      ],
      "execution_count": null,
      "outputs": [
        {
          "output_type": "execute_result",
          "data": {
            "text/plain": [
              "<matplotlib.axes._subplots.AxesSubplot at 0x7f45e5d35350>"
            ]
          },
          "metadata": {
            "tags": []
          },
          "execution_count": 44
        },
        {
          "output_type": "display_data",
          "data": {
            "image/png": "[encoded data removed]",
            "text/plain": [
              "<Figure size 576x360 with 1 Axes>"
            ]
          },
          "metadata": {
            "tags": [],
            "needs_background": "light"
          }
        }
      ]
    },
    {
      "cell_type": "code",
      "metadata": {
        "id": "_QZVkQ_Hvvw9"
      },
      "source": [
        "# Merging the stocks dataframe and the news dataframe on date column\n",
        "df_final=pd.merge(df_news,df_data,on=\"Date\",how='right')"
      ],
      "execution_count": null,
      "outputs": []
    },
    {
      "cell_type": "code",
      "metadata": {
        "colab": {
          "base_uri": "https://localhost:8080/",
          "height": 424
        },
        "id": "qOjqTcWx3ZKS",
        "outputId": "5c24f5dc-ebf1-47e1-dfec-2956c0d7a213"
      },
      "source": [
        "df_final"
      ],
      "execution_count": null,
      "outputs": [
        {
          "output_type": "execute_result",
          "data": {
            "text/html": [
              "<div>\n",
              "<style scoped>\n",
              "    .dataframe tbody tr th:only-of-type {\n",
              "        vertical-align: middle;\n",
              "    }\n",
              "\n",
              "    .dataframe tbody tr th {\n",
              "        vertical-align: top;\n",
              "    }\n",
              "\n",
              "    .dataframe thead th {\n",
              "        text-align: right;\n",
              "    }\n",
              "</style>\n",
              "<table border=\"1\" class=\"dataframe\">\n",
              "  <thead>\n",
              "    <tr style=\"text-align: right;\">\n",
              "      <th></th>\n",
              "      <th>headline_category</th>\n",
              "      <th>headline_text</th>\n",
              "      <th>Date</th>\n",
              "      <th>polarity</th>\n",
              "      <th>Sentiment</th>\n",
              "      <th>Close</th>\n",
              "    </tr>\n",
              "  </thead>\n",
              "  <tbody>\n",
              "    <tr>\n",
              "      <th>0</th>\n",
              "      <td>life-style.health-fitness.fitness</td>\n",
              "      <td>Surprising facts about exercise sweat</td>\n",
              "      <td>2016-01-04</td>\n",
              "      <td>0.700000</td>\n",
              "      <td>Positive</td>\n",
              "      <td>25623.349609</td>\n",
              "    </tr>\n",
              "    <tr>\n",
              "      <th>1</th>\n",
              "      <td>life-style.health-fitness.home-remedies</td>\n",
              "      <td>Bizarre home remedies for the common cold</td>\n",
              "      <td>2016-01-04</td>\n",
              "      <td>-0.166667</td>\n",
              "      <td>Negative</td>\n",
              "      <td>25623.349609</td>\n",
              "    </tr>\n",
              "    <tr>\n",
              "      <th>2</th>\n",
              "      <td>life-style.beauty</td>\n",
              "      <td>How to wear makeup when you're 30</td>\n",
              "      <td>2016-01-04</td>\n",
              "      <td>0.000000</td>\n",
              "      <td>Neutral</td>\n",
              "      <td>25623.349609</td>\n",
              "    </tr>\n",
              "    <tr>\n",
              "      <th>3</th>\n",
              "      <td>life-style.relationships.parenting</td>\n",
              "      <td>What's your style?</td>\n",
              "      <td>2016-01-04</td>\n",
              "      <td>0.000000</td>\n",
              "      <td>Neutral</td>\n",
              "      <td>25623.349609</td>\n",
              "    </tr>\n",
              "    <tr>\n",
              "      <th>4</th>\n",
              "      <td>life-style.relationships.man-woman</td>\n",
              "      <td>Bizarre reasons Indians cite for divorce</td>\n",
              "      <td>2016-01-04</td>\n",
              "      <td>0.400000</td>\n",
              "      <td>Positive</td>\n",
              "      <td>25623.349609</td>\n",
              "    </tr>\n",
              "    <tr>\n",
              "      <th>...</th>\n",
              "      <td>...</td>\n",
              "      <td>...</td>\n",
              "      <td>...</td>\n",
              "      <td>...</td>\n",
              "      <td>...</td>\n",
              "      <td>...</td>\n",
              "    </tr>\n",
              "    <tr>\n",
              "      <th>702348</th>\n",
              "      <td>city.delhi</td>\n",
              "      <td>AAP-BJP row over corpn taxes spills on to streets</td>\n",
              "      <td>2020-07-29</td>\n",
              "      <td>0.000000</td>\n",
              "      <td>Neutral</td>\n",
              "      <td>38071.128906</td>\n",
              "    </tr>\n",
              "    <tr>\n",
              "      <th>702349</th>\n",
              "      <td>city.delhi</td>\n",
              "      <td>Nearly 3L job seekers register on portal</td>\n",
              "      <td>2020-07-29</td>\n",
              "      <td>0.100000</td>\n",
              "      <td>Positive</td>\n",
              "      <td>38071.128906</td>\n",
              "    </tr>\n",
              "    <tr>\n",
              "      <th>702350</th>\n",
              "      <td>city.delhi</td>\n",
              "      <td>Covid Duty: Hotels Allowed To Check Out</td>\n",
              "      <td>2020-07-29</td>\n",
              "      <td>0.000000</td>\n",
              "      <td>Neutral</td>\n",
              "      <td>38071.128906</td>\n",
              "    </tr>\n",
              "    <tr>\n",
              "      <th>702351</th>\n",
              "      <td>city.nagpur</td>\n",
              "      <td>Cadasta Foundation; Waatavaran to secure fores...</td>\n",
              "      <td>2020-07-29</td>\n",
              "      <td>0.400000</td>\n",
              "      <td>Positive</td>\n",
              "      <td>38071.128906</td>\n",
              "    </tr>\n",
              "    <tr>\n",
              "      <th>702352</th>\n",
              "      <td>city.nagpur</td>\n",
              "      <td>Jalaj Sharma joins as additional municipal com...</td>\n",
              "      <td>2020-07-29</td>\n",
              "      <td>0.000000</td>\n",
              "      <td>Neutral</td>\n",
              "      <td>38071.128906</td>\n",
              "    </tr>\n",
              "  </tbody>\n",
              "</table>\n",
              "<p>702353 rows × 6 columns</p>\n",
              "</div>"
            ],
            "text/plain": [
              "                              headline_category  ...         Close\n",
              "0             life-style.health-fitness.fitness  ...  25623.349609\n",
              "1       life-style.health-fitness.home-remedies  ...  25623.349609\n",
              "2                             life-style.beauty  ...  25623.349609\n",
              "3            life-style.relationships.parenting  ...  25623.349609\n",
              "4            life-style.relationships.man-woman  ...  25623.349609\n",
              "...                                         ...  ...           ...\n",
              "702348                               city.delhi  ...  38071.128906\n",
              "702349                               city.delhi  ...  38071.128906\n",
              "702350                               city.delhi  ...  38071.128906\n",
              "702351                              city.nagpur  ...  38071.128906\n",
              "702352                              city.nagpur  ...  38071.128906\n",
              "\n",
              "[702353 rows x 6 columns]"
            ]
          },
          "metadata": {
            "tags": []
          },
          "execution_count": 46
        }
      ]
    },
    {
      "cell_type": "code",
      "metadata": {
        "colab": {
          "base_uri": "https://localhost:8080/"
        },
        "id": "ZVm_QJvAy3cn",
        "outputId": "724acc72-172c-4f16-ae4a-abbf839f0174"
      },
      "source": [
        "# Grouping\n",
        "df_final.groupby('Sentiment')['Close'].mean()"
      ],
      "execution_count": null,
      "outputs": [
        {
          "output_type": "execute_result",
          "data": {
            "text/plain": [
              "Sentiment\n",
              "Negative    32869.248913\n",
              "Neutral     32593.546908\n",
              "Positive    32649.965569\n",
              "Name: Close, dtype: float64"
            ]
          },
          "metadata": {
            "tags": []
          },
          "execution_count": 47
        }
      ]
    },
    {
      "cell_type": "code",
      "metadata": {
        "id": "jQeffh-45zNL"
      },
      "source": [
        "#Creting dummy variables for sentiment column\n",
        "df_final=pd.get_dummies(data=df_final,columns=['Sentiment'])"
      ],
      "execution_count": null,
      "outputs": []
    },
    {
      "cell_type": "code",
      "metadata": {
        "colab": {
          "base_uri": "https://localhost:8080/",
          "height": 112
        },
        "id": "t7iwH2AW6hno",
        "outputId": "8afa0214-ba75-4b55-ef93-158efcda8bed"
      },
      "source": [
        "df_final.head(2)"
      ],
      "execution_count": null,
      "outputs": [
        {
          "output_type": "execute_result",
          "data": {
            "text/html": [
              "<div>\n",
              "<style scoped>\n",
              "    .dataframe tbody tr th:only-of-type {\n",
              "        vertical-align: middle;\n",
              "    }\n",
              "\n",
              "    .dataframe tbody tr th {\n",
              "        vertical-align: top;\n",
              "    }\n",
              "\n",
              "    .dataframe thead th {\n",
              "        text-align: right;\n",
              "    }\n",
              "</style>\n",
              "<table border=\"1\" class=\"dataframe\">\n",
              "  <thead>\n",
              "    <tr style=\"text-align: right;\">\n",
              "      <th></th>\n",
              "      <th>headline_category</th>\n",
              "      <th>headline_text</th>\n",
              "      <th>Date</th>\n",
              "      <th>polarity</th>\n",
              "      <th>Close</th>\n",
              "      <th>Sentiment_Negative</th>\n",
              "      <th>Sentiment_Neutral</th>\n",
              "      <th>Sentiment_Positive</th>\n",
              "    </tr>\n",
              "  </thead>\n",
              "  <tbody>\n",
              "    <tr>\n",
              "      <th>0</th>\n",
              "      <td>life-style.health-fitness.fitness</td>\n",
              "      <td>Surprising facts about exercise sweat</td>\n",
              "      <td>2016-01-04</td>\n",
              "      <td>0.700000</td>\n",
              "      <td>25623.349609</td>\n",
              "      <td>0</td>\n",
              "      <td>0</td>\n",
              "      <td>1</td>\n",
              "    </tr>\n",
              "    <tr>\n",
              "      <th>1</th>\n",
              "      <td>life-style.health-fitness.home-remedies</td>\n",
              "      <td>Bizarre home remedies for the common cold</td>\n",
              "      <td>2016-01-04</td>\n",
              "      <td>-0.166667</td>\n",
              "      <td>25623.349609</td>\n",
              "      <td>1</td>\n",
              "      <td>0</td>\n",
              "      <td>0</td>\n",
              "    </tr>\n",
              "  </tbody>\n",
              "</table>\n",
              "</div>"
            ],
            "text/plain": [
              "                         headline_category  ... Sentiment_Positive\n",
              "0        life-style.health-fitness.fitness  ...                  1\n",
              "1  life-style.health-fitness.home-remedies  ...                  0\n",
              "\n",
              "[2 rows x 8 columns]"
            ]
          },
          "metadata": {
            "tags": []
          },
          "execution_count": 49
        }
      ]
    },
    {
      "cell_type": "code",
      "metadata": {
        "colab": {
          "base_uri": "https://localhost:8080/",
          "height": 379
        },
        "id": "x5apBR5j6HWR",
        "outputId": "05efa761-0866-4048-84b4-b420b8577a2d"
      },
      "source": [
        "# Plotting Correlation  Matrix\n",
        "corr_data=df_final[['Sentiment_Positive','Sentiment_Negative','Sentiment_Neutral','Close']].corr()\n",
        "sns.heatmap(corr_data,annot=True)"
      ],
      "execution_count": null,
      "outputs": [
        {
          "output_type": "execute_result",
          "data": {
            "text/plain": [
              "<matplotlib.axes._subplots.AxesSubplot at 0x7f45d1cfb450>"
            ]
          },
          "metadata": {
            "tags": []
          },
          "execution_count": 50
        },
        {
          "output_type": "display_data",
          "data": {
            "image/png": "[encoded data removed]",
            "text/plain": [
              "<Figure size 432x288 with 2 Axes>"
            ]
          },
          "metadata": {
            "tags": [],
            "needs_background": "light"
          }
        }
      ]
    },
    {
      "cell_type": "markdown",
      "metadata": {
        "id": "VkP9bHL673kX"
      },
      "source": [
        "<h1>Conclusion</h1> <h3>We can finally conclude that the Stock prices are somewhat negatively correlated with the sentiment of the news headlines. "
      ]
    }
  ]
}